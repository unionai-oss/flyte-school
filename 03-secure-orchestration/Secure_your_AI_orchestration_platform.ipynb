{
  "cells": [
    {
      "cell_type": "markdown",
      "metadata": {
        "id": "view-in-github",
        "colab_type": "text"
      },
      "source": [
        "<a href=\"https://colab.research.google.com/github/davidmirror-ops/flyte-school/blob/main/03-secure-orchestration/Secure_your_AI_orchestration_platform.ipynb\" target=\"_parent\"><img src=\"https://colab.research.google.com/assets/colab-badge.svg\" alt=\"Open In Colab\"/></a>"
      ]
    },
    {
      "cell_type": "markdown",
      "metadata": {
        "id": "74fryBdmAGaq"
      },
      "source": [
        "# 🔐 Secure AI orchestration with Union\n",
        "\n",
        "\n",
        "First, go to https://signup.union.ai/ to sign up for a Union account. This\n",
        "will take a few minutes, after which you should be able to go to\n",
        "https://serverless.union.ai/ to see the Union Serverless dashboard."
      ]
    },
    {
      "cell_type": "code",
      "execution_count": 1,
      "metadata": {
        "id": "57g6lV0MAGas"
      },
      "outputs": [],
      "source": [
        "!pip install 'flytekit>=1.14.0' 'union>=0.1.54' flytekitplugins-onnxscikitlearn flytekitplugins-pandera>=0.16.0 onnxruntime joblib openai pandas pyarrow scikit-learn numpy"
      ]
    },
    {
      "cell_type": "markdown",
      "metadata": {
        "id": "PxE_5288AGas"
      },
      "source": [
        "## Login to Union Serverless"
      ]
    },
    {
      "cell_type": "code",
      "execution_count": 2,
      "metadata": {
        "colab": {
          "base_uri": "https://localhost:8080/"
        },
        "id": "t4kps0dYAGat",
        "outputId": "5fbe419d-1433-4aed-bf41-a69d0ddbbf5f"
      },
      "outputs": [
        {
          "output_type": "stream",
          "name": "stdout",
          "text": [
            "🔐 \u001b[33mConfiguration saved to \u001b[0m\u001b[33m/root/.union/\u001b[0m\u001b[33mconfig.yaml\u001b[0m\n",
            "To Authenticate, navigate in a browser to the following URL: \u001b[34m\u001b[4mhttps://signin-serverless.hosted.unionai.cloud/activate?user_code=KZGXRMCQ\u001b[0m\u001b[0m\n",
            "Authentication Pending...\n",
            "Authentication Pending...\n",
            "Authentication successful!\n",
            "Login successful into \u001b[1;32mserverless\u001b[0m\n"
          ]
        }
      ],
      "source": [
        "!union create login --auth device-flow --serverless"
      ]
    },
    {
      "cell_type": "markdown",
      "metadata": {
        "id": "v6SilsXlAGat"
      },
      "source": [
        "## Part 1: 🥒 Pickled Model Attack"
      ]
    },
    {
      "cell_type": "markdown",
      "source": [
        "In this section we'll exploit a vulnerability of the pickle format to execute a malicous payload"
      ],
      "metadata": {
        "id": "8JjpfeGwK43P"
      }
    },
    {
      "cell_type": "markdown",
      "metadata": {
        "id": "tHk5G5XjAGat"
      },
      "source": [
        "### 🏋️ Training a model"
      ]
    },
    {
      "cell_type": "code",
      "execution_count": 3,
      "metadata": {
        "colab": {
          "base_uri": "https://localhost:8080/",
          "height": 115
        },
        "id": "kLoYNA7TAGat",
        "outputId": "41965e91-e39f-44d0-da99-f5a90f4ff6cc"
      },
      "outputs": [
        {
          "output_type": "display_data",
          "data": {
            "text/plain": [
              "\u001b[2;36m15:02:04.740495\u001b[0m\u001b[2;36m \u001b[0m\u001b[33mWARNING \u001b[0m type_engine.py:\u001b[1;36m1729\u001b[0m - Unsupported Type \u001b[1m<\u001b[0m\u001b[1;95mclass\u001b[0m\u001b[39m \u001b[0m         \n",
              "\u001b[2;36m                \u001b[0m         \u001b[32m'pandas.core.series.Series'\u001b[0m\u001b[1m>\u001b[0m found, Flyte will default \n",
              "\u001b[2;36m                \u001b[0m         to use PickleFile as the transport. Pickle can only be \n",
              "\u001b[2;36m                \u001b[0m         used to send objects between the exact same version of \n",
              "\u001b[2;36m                \u001b[0m         Python, and we strongly recommend to use python type   \n",
              "\u001b[2;36m                \u001b[0m         that flyte support.                                    \n"
            ],
            "text/html": [
              "<pre style=\"white-space:pre;overflow-x:auto;line-height:normal;font-family:Menlo,'DejaVu Sans Mono',consolas,'Courier New',monospace\"><span style=\"color: #7fbfbf; text-decoration-color: #7fbfbf\">15:02:04.740495 </span><span style=\"color: #808000; text-decoration-color: #808000\">WARNING </span> type_engine.py:<span style=\"color: #008080; text-decoration-color: #008080; font-weight: bold\">1729</span> - Unsupported Type <span style=\"font-weight: bold\">&lt;</span><span style=\"color: #ff00ff; text-decoration-color: #ff00ff; font-weight: bold\">class</span><span style=\"color: #000000; text-decoration-color: #000000\"> </span>         \n",
              "<span style=\"color: #7fbfbf; text-decoration-color: #7fbfbf\">                </span>         <span style=\"color: #008000; text-decoration-color: #008000\">'pandas.core.series.Series'</span><span style=\"font-weight: bold\">&gt;</span> found, Flyte will default \n",
              "<span style=\"color: #7fbfbf; text-decoration-color: #7fbfbf\">                </span>         to use PickleFile as the transport. Pickle can only be \n",
              "<span style=\"color: #7fbfbf; text-decoration-color: #7fbfbf\">                </span>         used to send objects between the exact same version of \n",
              "<span style=\"color: #7fbfbf; text-decoration-color: #7fbfbf\">                </span>         Python, and we strongly recommend to use python type   \n",
              "<span style=\"color: #7fbfbf; text-decoration-color: #7fbfbf\">                </span>         that flyte support.                                    \n",
              "</pre>\n"
            ]
          },
          "metadata": {}
        }
      ],
      "source": [
        "import sys\n",
        "from functools import partial\n",
        "from typing import NamedTuple\n",
        "\n",
        "import joblib\n",
        "import pandas as pd\n",
        "\n",
        "import union\n",
        "from flytekit.deck import MarkdownRenderer\n",
        "from flytekit.types.file import FlyteFile\n",
        "\n",
        "from sklearn.datasets import load_wine\n",
        "from sklearn.model_selection import train_test_split\n",
        "from sklearn.ensemble import RandomForestClassifier\n",
        "from sklearn.metrics import accuracy_score\n",
        "\n",
        "\n",
        "\n",
        "image = union.ImageSpec.from_env(\n",
        "    name=\"ml-security\",\n",
        "    packages=[\n",
        "        \"bandit\",\n",
        "        \"flytekit>=1.14.0\",\n",
        "        \"joblib\",\n",
        "        \"openai\",\n",
        "        \"pandas\",\n",
        "        \"pyarrow\",\n",
        "        \"scikit-learn\",\n",
        "        \"union>=0.1.54\",\n",
        "    ],\n",
        ")\n",
        "\n",
        "task = partial(\n",
        "    union.task,\n",
        "    container_image=image,\n",
        "    cache=True,\n",
        "    cache_version=\"4\",\n",
        ")\n",
        "\n",
        "ModelOutput = NamedTuple(\"Output\", [(\"model\", FlyteFile), (\"accuracy\", float)])\n",
        "\n",
        "\n",
        "@task\n",
        "def load_data() -> tuple[pd.DataFrame, pd.Series]:\n",
        "    wine = load_wine()\n",
        "    X = pd.DataFrame(wine.data, columns=wine.feature_names)\n",
        "    y = pd.Series(wine.target)\n",
        "    return X, y\n",
        "\n",
        "\n",
        "@task\n",
        "def split_data(X: pd.DataFrame, y: pd.Series) -> tuple[pd.DataFrame, pd.DataFrame, pd.Series, pd.Series]:\n",
        "    return train_test_split(X, y, test_size=0.2, random_state=42)\n",
        "\n",
        "\n",
        "@task\n",
        "def train_model(X_train: pd.DataFrame, y_train: pd.Series) -> FlyteFile:\n",
        "    model = RandomForestClassifier(n_estimators=100, random_state=42)\n",
        "    model.fit(X_train, y_train)\n",
        "    path = \"model.joblib\"\n",
        "    joblib.dump(model, path)\n",
        "    return FlyteFile(path=path)\n",
        "\n",
        "\n",
        "@task(enable_deck=True)\n",
        "def evaluate_model(model: FlyteFile, X_test: pd.DataFrame, y_test: pd.Series) -> float:\n",
        "    with open(model, \"rb\") as f:\n",
        "        model = joblib.load(f)\n",
        "    y_pred = model.predict(X_test)\n",
        "    accuracy = accuracy_score(y_test, y_pred)\n",
        "    deck = union.Deck(name=\"Accuracy Report\", html=MarkdownRenderer().to_html(f\"# Test accuracy: {accuracy}\"))\n",
        "    union.current_context().decks.insert(0, deck)\n",
        "    return accuracy\n",
        "\n",
        "\n",
        "@union.workflow\n",
        "def wine_classification_workflow() -> ModelOutput:\n",
        "    X, y = load_data()\n",
        "    X_train, X_test, y_train, y_test = split_data(X, y)\n",
        "    model = train_model(X_train, y_train)\n",
        "    accuracy = evaluate_model(model, X_test, y_test)\n",
        "    return model, accuracy"
      ]
    },
    {
      "cell_type": "markdown",
      "metadata": {
        "id": "nt4o7nNsAGat"
      },
      "source": [
        "Create a `UnionRemote` client to run our workflows."
      ]
    },
    {
      "cell_type": "code",
      "execution_count": 4,
      "metadata": {
        "colab": {
          "base_uri": "https://localhost:8080/",
          "height": 50
        },
        "id": "0b3vzIXVAGau",
        "outputId": "f39e27fe-858f-46e6-856f-584194172009"
      },
      "outputs": [
        {
          "output_type": "display_data",
          "data": {
            "text/plain": [
              "\u001b[2;36m15:02:09.235222\u001b[0m\u001b[2;36m \u001b[0m\u001b[33mWARNING \u001b[0m remote.py:\u001b[1;36m293\u001b[0m - Jupyter notebook and interactive task  \n",
              "\u001b[2;36m                \u001b[0m         support is still alpha.                                \n"
            ],
            "text/html": [
              "<pre style=\"white-space:pre;overflow-x:auto;line-height:normal;font-family:Menlo,'DejaVu Sans Mono',consolas,'Courier New',monospace\"><span style=\"color: #7fbfbf; text-decoration-color: #7fbfbf\">15:02:09.235222 </span><span style=\"color: #808000; text-decoration-color: #808000\">WARNING </span> remote.py:<span style=\"color: #008080; text-decoration-color: #008080; font-weight: bold\">293</span> - Jupyter notebook and interactive task  \n",
              "<span style=\"color: #7fbfbf; text-decoration-color: #7fbfbf\">                </span>         support is still alpha.                                \n",
              "</pre>\n"
            ]
          },
          "metadata": {}
        }
      ],
      "source": [
        "from union.remote import UnionRemote\n",
        "\n",
        "serverless = UnionRemote()"
      ]
    },
    {
      "cell_type": "code",
      "execution_count": 5,
      "metadata": {
        "colab": {
          "base_uri": "https://localhost:8080/",
          "height": 224
        },
        "id": "3Bxrf_EYAGau",
        "outputId": "2c1c2480-d43a-4bf3-f138-c1f9f12cb2b5"
      },
      "outputs": [
        {
          "output_type": "display_data",
          "data": {
            "text/plain": [
              "\u001b[2;36m15:02:14.050719\u001b[0m\u001b[2;36m \u001b[0m\u001b[33mWARNING \u001b[0m remote.py:\u001b[1;36m293\u001b[0m - Jupyter notebook and interactive task  \n",
              "\u001b[2;36m                \u001b[0m         support is still alpha.                                \n"
            ],
            "text/html": [
              "<pre style=\"white-space:pre;overflow-x:auto;line-height:normal;font-family:Menlo,'DejaVu Sans Mono',consolas,'Courier New',monospace\"><span style=\"color: #7fbfbf; text-decoration-color: #7fbfbf\">15:02:14.050719 </span><span style=\"color: #808000; text-decoration-color: #808000\">WARNING </span> remote.py:<span style=\"color: #008080; text-decoration-color: #008080; font-weight: bold\">293</span> - Jupyter notebook and interactive task  \n",
              "<span style=\"color: #7fbfbf; text-decoration-color: #7fbfbf\">                </span>         support is still alpha.                                \n",
              "</pre>\n"
            ]
          },
          "metadata": {}
        },
        {
          "output_type": "stream",
          "name": "stdout",
          "text": [
            "\u001b[34mImage ml-security:ueI4RuSVjkKom8Do5nj06A was not found or has expired.\u001b[0m\n",
            "\u001b[34m\u001b[1m🐳 Submitting a new build...\u001b[0m\n"
          ]
        },
        {
          "output_type": "display_data",
          "data": {
            "text/plain": [
              "\u001b[2;36m15:02:16.068641\u001b[0m\u001b[2;36m \u001b[0m\u001b[33mWARNING \u001b[0m remote.py:\u001b[1;36m293\u001b[0m - Jupyter notebook and interactive task  \n",
              "\u001b[2;36m                \u001b[0m         support is still alpha.                                \n"
            ],
            "text/html": [
              "<pre style=\"white-space:pre;overflow-x:auto;line-height:normal;font-family:Menlo,'DejaVu Sans Mono',consolas,'Courier New',monospace\"><span style=\"color: #7fbfbf; text-decoration-color: #7fbfbf\">15:02:16.068641 </span><span style=\"color: #808000; text-decoration-color: #808000\">WARNING </span> remote.py:<span style=\"color: #008080; text-decoration-color: #008080; font-weight: bold\">293</span> - Jupyter notebook and interactive task  \n",
              "<span style=\"color: #7fbfbf; text-decoration-color: #7fbfbf\">                </span>         support is still alpha.                                \n",
              "</pre>\n"
            ]
          },
          "metadata": {}
        },
        {
          "output_type": "stream",
          "name": "stdout",
          "text": [
            "\u001b[33m\u001b[1m👍 Build submitted!\u001b[0m\n",
            "\u001b[1m⏳ Waiting for build to finish at: \u001b[36mhttps://serverless.union.ai/org/davidmirror-ops/projects/system/domains/production/executions/aqk2j45k9vt627dk4kgv\u001b[0m\u001b[0m\n",
            "\u001b[32m\u001b[1m✅ Build completed in 0:00:41!\u001b[0m\n"
          ]
        },
        {
          "output_type": "execute_result",
          "data": {
            "text/plain": [
              "Flyte Serialized object (FlyteWorkflowExecution):\n",
              "  id:\n",
              "    project: default\n",
              "    domain: development\n",
              "    name: aqbsz448d2888t4lzk9g\n",
              "  spec:\n",
              "    launch_plan:\n",
              "      resource_type: 3\n",
              "      project: default\n",
              "      domain: development\n",
              "      name: wine_classification_workflow\n",
              "      version: HzGvvI_svlM171gGWLNsKA\n",
              "    metadata:\n",
              "      principal: 00uh8ip848eXOG2cq5d7\n",
              "  closure:\n",
              "    created_at:\n",
              "      seconds: 1740063779\n",
              "      nanos: 511413000\n",
              "    updated_at:\n",
              "      seconds: 1740063779\n",
              "      nanos: 511413000"
            ],
            "text/html": [
              "<b>Execution is in-progress. </b> <a href='https://serverless.union.ai/org/davidmirror-ops/projects/default/domains/development/executions/aqbsz448d2888t4lzk9g'>https://serverless.union.ai/org/davidmirror-ops/projects/default/domains/development/executions/aqbsz448d2888t4lzk9g</a>"
            ]
          },
          "metadata": {},
          "execution_count": 5
        }
      ],
      "source": [
        "execution = serverless.execute(wine_classification_workflow, inputs={})\n",
        "execution"
      ]
    },
    {
      "cell_type": "markdown",
      "metadata": {
        "id": "Q5HMh3P9AGau"
      },
      "source": [
        "Read the model file back into the notebook session:"
      ]
    },
    {
      "cell_type": "code",
      "execution_count": 6,
      "metadata": {
        "id": "roZvKhgrAGau",
        "colab": {
          "base_uri": "https://localhost:8080/",
          "height": 80
        },
        "outputId": "d2a6f192-d4ff-4a57-eba1-291955dfda31"
      },
      "outputs": [
        {
          "output_type": "execute_result",
          "data": {
            "text/plain": [
              "RandomForestClassifier(random_state=42)"
            ],
            "text/html": [
              "<style>#sk-container-id-1 {\n",
              "  /* Definition of color scheme common for light and dark mode */\n",
              "  --sklearn-color-text: #000;\n",
              "  --sklearn-color-text-muted: #666;\n",
              "  --sklearn-color-line: gray;\n",
              "  /* Definition of color scheme for unfitted estimators */\n",
              "  --sklearn-color-unfitted-level-0: #fff5e6;\n",
              "  --sklearn-color-unfitted-level-1: #f6e4d2;\n",
              "  --sklearn-color-unfitted-level-2: #ffe0b3;\n",
              "  --sklearn-color-unfitted-level-3: chocolate;\n",
              "  /* Definition of color scheme for fitted estimators */\n",
              "  --sklearn-color-fitted-level-0: #f0f8ff;\n",
              "  --sklearn-color-fitted-level-1: #d4ebff;\n",
              "  --sklearn-color-fitted-level-2: #b3dbfd;\n",
              "  --sklearn-color-fitted-level-3: cornflowerblue;\n",
              "\n",
              "  /* Specific color for light theme */\n",
              "  --sklearn-color-text-on-default-background: var(--sg-text-color, var(--theme-code-foreground, var(--jp-content-font-color1, black)));\n",
              "  --sklearn-color-background: var(--sg-background-color, var(--theme-background, var(--jp-layout-color0, white)));\n",
              "  --sklearn-color-border-box: var(--sg-text-color, var(--theme-code-foreground, var(--jp-content-font-color1, black)));\n",
              "  --sklearn-color-icon: #696969;\n",
              "\n",
              "  @media (prefers-color-scheme: dark) {\n",
              "    /* Redefinition of color scheme for dark theme */\n",
              "    --sklearn-color-text-on-default-background: var(--sg-text-color, var(--theme-code-foreground, var(--jp-content-font-color1, white)));\n",
              "    --sklearn-color-background: var(--sg-background-color, var(--theme-background, var(--jp-layout-color0, #111)));\n",
              "    --sklearn-color-border-box: var(--sg-text-color, var(--theme-code-foreground, var(--jp-content-font-color1, white)));\n",
              "    --sklearn-color-icon: #878787;\n",
              "  }\n",
              "}\n",
              "\n",
              "#sk-container-id-1 {\n",
              "  color: var(--sklearn-color-text);\n",
              "}\n",
              "\n",
              "#sk-container-id-1 pre {\n",
              "  padding: 0;\n",
              "}\n",
              "\n",
              "#sk-container-id-1 input.sk-hidden--visually {\n",
              "  border: 0;\n",
              "  clip: rect(1px 1px 1px 1px);\n",
              "  clip: rect(1px, 1px, 1px, 1px);\n",
              "  height: 1px;\n",
              "  margin: -1px;\n",
              "  overflow: hidden;\n",
              "  padding: 0;\n",
              "  position: absolute;\n",
              "  width: 1px;\n",
              "}\n",
              "\n",
              "#sk-container-id-1 div.sk-dashed-wrapped {\n",
              "  border: 1px dashed var(--sklearn-color-line);\n",
              "  margin: 0 0.4em 0.5em 0.4em;\n",
              "  box-sizing: border-box;\n",
              "  padding-bottom: 0.4em;\n",
              "  background-color: var(--sklearn-color-background);\n",
              "}\n",
              "\n",
              "#sk-container-id-1 div.sk-container {\n",
              "  /* jupyter's `normalize.less` sets `[hidden] { display: none; }`\n",
              "     but bootstrap.min.css set `[hidden] { display: none !important; }`\n",
              "     so we also need the `!important` here to be able to override the\n",
              "     default hidden behavior on the sphinx rendered scikit-learn.org.\n",
              "     See: https://github.com/scikit-learn/scikit-learn/issues/21755 */\n",
              "  display: inline-block !important;\n",
              "  position: relative;\n",
              "}\n",
              "\n",
              "#sk-container-id-1 div.sk-text-repr-fallback {\n",
              "  display: none;\n",
              "}\n",
              "\n",
              "div.sk-parallel-item,\n",
              "div.sk-serial,\n",
              "div.sk-item {\n",
              "  /* draw centered vertical line to link estimators */\n",
              "  background-image: linear-gradient(var(--sklearn-color-text-on-default-background), var(--sklearn-color-text-on-default-background));\n",
              "  background-size: 2px 100%;\n",
              "  background-repeat: no-repeat;\n",
              "  background-position: center center;\n",
              "}\n",
              "\n",
              "/* Parallel-specific style estimator block */\n",
              "\n",
              "#sk-container-id-1 div.sk-parallel-item::after {\n",
              "  content: \"\";\n",
              "  width: 100%;\n",
              "  border-bottom: 2px solid var(--sklearn-color-text-on-default-background);\n",
              "  flex-grow: 1;\n",
              "}\n",
              "\n",
              "#sk-container-id-1 div.sk-parallel {\n",
              "  display: flex;\n",
              "  align-items: stretch;\n",
              "  justify-content: center;\n",
              "  background-color: var(--sklearn-color-background);\n",
              "  position: relative;\n",
              "}\n",
              "\n",
              "#sk-container-id-1 div.sk-parallel-item {\n",
              "  display: flex;\n",
              "  flex-direction: column;\n",
              "}\n",
              "\n",
              "#sk-container-id-1 div.sk-parallel-item:first-child::after {\n",
              "  align-self: flex-end;\n",
              "  width: 50%;\n",
              "}\n",
              "\n",
              "#sk-container-id-1 div.sk-parallel-item:last-child::after {\n",
              "  align-self: flex-start;\n",
              "  width: 50%;\n",
              "}\n",
              "\n",
              "#sk-container-id-1 div.sk-parallel-item:only-child::after {\n",
              "  width: 0;\n",
              "}\n",
              "\n",
              "/* Serial-specific style estimator block */\n",
              "\n",
              "#sk-container-id-1 div.sk-serial {\n",
              "  display: flex;\n",
              "  flex-direction: column;\n",
              "  align-items: center;\n",
              "  background-color: var(--sklearn-color-background);\n",
              "  padding-right: 1em;\n",
              "  padding-left: 1em;\n",
              "}\n",
              "\n",
              "\n",
              "/* Toggleable style: style used for estimator/Pipeline/ColumnTransformer box that is\n",
              "clickable and can be expanded/collapsed.\n",
              "- Pipeline and ColumnTransformer use this feature and define the default style\n",
              "- Estimators will overwrite some part of the style using the `sk-estimator` class\n",
              "*/\n",
              "\n",
              "/* Pipeline and ColumnTransformer style (default) */\n",
              "\n",
              "#sk-container-id-1 div.sk-toggleable {\n",
              "  /* Default theme specific background. It is overwritten whether we have a\n",
              "  specific estimator or a Pipeline/ColumnTransformer */\n",
              "  background-color: var(--sklearn-color-background);\n",
              "}\n",
              "\n",
              "/* Toggleable label */\n",
              "#sk-container-id-1 label.sk-toggleable__label {\n",
              "  cursor: pointer;\n",
              "  display: flex;\n",
              "  width: 100%;\n",
              "  margin-bottom: 0;\n",
              "  padding: 0.5em;\n",
              "  box-sizing: border-box;\n",
              "  text-align: center;\n",
              "  align-items: start;\n",
              "  justify-content: space-between;\n",
              "  gap: 0.5em;\n",
              "}\n",
              "\n",
              "#sk-container-id-1 label.sk-toggleable__label .caption {\n",
              "  font-size: 0.6rem;\n",
              "  font-weight: lighter;\n",
              "  color: var(--sklearn-color-text-muted);\n",
              "}\n",
              "\n",
              "#sk-container-id-1 label.sk-toggleable__label-arrow:before {\n",
              "  /* Arrow on the left of the label */\n",
              "  content: \"▸\";\n",
              "  float: left;\n",
              "  margin-right: 0.25em;\n",
              "  color: var(--sklearn-color-icon);\n",
              "}\n",
              "\n",
              "#sk-container-id-1 label.sk-toggleable__label-arrow:hover:before {\n",
              "  color: var(--sklearn-color-text);\n",
              "}\n",
              "\n",
              "/* Toggleable content - dropdown */\n",
              "\n",
              "#sk-container-id-1 div.sk-toggleable__content {\n",
              "  max-height: 0;\n",
              "  max-width: 0;\n",
              "  overflow: hidden;\n",
              "  text-align: left;\n",
              "  /* unfitted */\n",
              "  background-color: var(--sklearn-color-unfitted-level-0);\n",
              "}\n",
              "\n",
              "#sk-container-id-1 div.sk-toggleable__content.fitted {\n",
              "  /* fitted */\n",
              "  background-color: var(--sklearn-color-fitted-level-0);\n",
              "}\n",
              "\n",
              "#sk-container-id-1 div.sk-toggleable__content pre {\n",
              "  margin: 0.2em;\n",
              "  border-radius: 0.25em;\n",
              "  color: var(--sklearn-color-text);\n",
              "  /* unfitted */\n",
              "  background-color: var(--sklearn-color-unfitted-level-0);\n",
              "}\n",
              "\n",
              "#sk-container-id-1 div.sk-toggleable__content.fitted pre {\n",
              "  /* unfitted */\n",
              "  background-color: var(--sklearn-color-fitted-level-0);\n",
              "}\n",
              "\n",
              "#sk-container-id-1 input.sk-toggleable__control:checked~div.sk-toggleable__content {\n",
              "  /* Expand drop-down */\n",
              "  max-height: 200px;\n",
              "  max-width: 100%;\n",
              "  overflow: auto;\n",
              "}\n",
              "\n",
              "#sk-container-id-1 input.sk-toggleable__control:checked~label.sk-toggleable__label-arrow:before {\n",
              "  content: \"▾\";\n",
              "}\n",
              "\n",
              "/* Pipeline/ColumnTransformer-specific style */\n",
              "\n",
              "#sk-container-id-1 div.sk-label input.sk-toggleable__control:checked~label.sk-toggleable__label {\n",
              "  color: var(--sklearn-color-text);\n",
              "  background-color: var(--sklearn-color-unfitted-level-2);\n",
              "}\n",
              "\n",
              "#sk-container-id-1 div.sk-label.fitted input.sk-toggleable__control:checked~label.sk-toggleable__label {\n",
              "  background-color: var(--sklearn-color-fitted-level-2);\n",
              "}\n",
              "\n",
              "/* Estimator-specific style */\n",
              "\n",
              "/* Colorize estimator box */\n",
              "#sk-container-id-1 div.sk-estimator input.sk-toggleable__control:checked~label.sk-toggleable__label {\n",
              "  /* unfitted */\n",
              "  background-color: var(--sklearn-color-unfitted-level-2);\n",
              "}\n",
              "\n",
              "#sk-container-id-1 div.sk-estimator.fitted input.sk-toggleable__control:checked~label.sk-toggleable__label {\n",
              "  /* fitted */\n",
              "  background-color: var(--sklearn-color-fitted-level-2);\n",
              "}\n",
              "\n",
              "#sk-container-id-1 div.sk-label label.sk-toggleable__label,\n",
              "#sk-container-id-1 div.sk-label label {\n",
              "  /* The background is the default theme color */\n",
              "  color: var(--sklearn-color-text-on-default-background);\n",
              "}\n",
              "\n",
              "/* On hover, darken the color of the background */\n",
              "#sk-container-id-1 div.sk-label:hover label.sk-toggleable__label {\n",
              "  color: var(--sklearn-color-text);\n",
              "  background-color: var(--sklearn-color-unfitted-level-2);\n",
              "}\n",
              "\n",
              "/* Label box, darken color on hover, fitted */\n",
              "#sk-container-id-1 div.sk-label.fitted:hover label.sk-toggleable__label.fitted {\n",
              "  color: var(--sklearn-color-text);\n",
              "  background-color: var(--sklearn-color-fitted-level-2);\n",
              "}\n",
              "\n",
              "/* Estimator label */\n",
              "\n",
              "#sk-container-id-1 div.sk-label label {\n",
              "  font-family: monospace;\n",
              "  font-weight: bold;\n",
              "  display: inline-block;\n",
              "  line-height: 1.2em;\n",
              "}\n",
              "\n",
              "#sk-container-id-1 div.sk-label-container {\n",
              "  text-align: center;\n",
              "}\n",
              "\n",
              "/* Estimator-specific */\n",
              "#sk-container-id-1 div.sk-estimator {\n",
              "  font-family: monospace;\n",
              "  border: 1px dotted var(--sklearn-color-border-box);\n",
              "  border-radius: 0.25em;\n",
              "  box-sizing: border-box;\n",
              "  margin-bottom: 0.5em;\n",
              "  /* unfitted */\n",
              "  background-color: var(--sklearn-color-unfitted-level-0);\n",
              "}\n",
              "\n",
              "#sk-container-id-1 div.sk-estimator.fitted {\n",
              "  /* fitted */\n",
              "  background-color: var(--sklearn-color-fitted-level-0);\n",
              "}\n",
              "\n",
              "/* on hover */\n",
              "#sk-container-id-1 div.sk-estimator:hover {\n",
              "  /* unfitted */\n",
              "  background-color: var(--sklearn-color-unfitted-level-2);\n",
              "}\n",
              "\n",
              "#sk-container-id-1 div.sk-estimator.fitted:hover {\n",
              "  /* fitted */\n",
              "  background-color: var(--sklearn-color-fitted-level-2);\n",
              "}\n",
              "\n",
              "/* Specification for estimator info (e.g. \"i\" and \"?\") */\n",
              "\n",
              "/* Common style for \"i\" and \"?\" */\n",
              "\n",
              ".sk-estimator-doc-link,\n",
              "a:link.sk-estimator-doc-link,\n",
              "a:visited.sk-estimator-doc-link {\n",
              "  float: right;\n",
              "  font-size: smaller;\n",
              "  line-height: 1em;\n",
              "  font-family: monospace;\n",
              "  background-color: var(--sklearn-color-background);\n",
              "  border-radius: 1em;\n",
              "  height: 1em;\n",
              "  width: 1em;\n",
              "  text-decoration: none !important;\n",
              "  margin-left: 0.5em;\n",
              "  text-align: center;\n",
              "  /* unfitted */\n",
              "  border: var(--sklearn-color-unfitted-level-1) 1pt solid;\n",
              "  color: var(--sklearn-color-unfitted-level-1);\n",
              "}\n",
              "\n",
              ".sk-estimator-doc-link.fitted,\n",
              "a:link.sk-estimator-doc-link.fitted,\n",
              "a:visited.sk-estimator-doc-link.fitted {\n",
              "  /* fitted */\n",
              "  border: var(--sklearn-color-fitted-level-1) 1pt solid;\n",
              "  color: var(--sklearn-color-fitted-level-1);\n",
              "}\n",
              "\n",
              "/* On hover */\n",
              "div.sk-estimator:hover .sk-estimator-doc-link:hover,\n",
              ".sk-estimator-doc-link:hover,\n",
              "div.sk-label-container:hover .sk-estimator-doc-link:hover,\n",
              ".sk-estimator-doc-link:hover {\n",
              "  /* unfitted */\n",
              "  background-color: var(--sklearn-color-unfitted-level-3);\n",
              "  color: var(--sklearn-color-background);\n",
              "  text-decoration: none;\n",
              "}\n",
              "\n",
              "div.sk-estimator.fitted:hover .sk-estimator-doc-link.fitted:hover,\n",
              ".sk-estimator-doc-link.fitted:hover,\n",
              "div.sk-label-container:hover .sk-estimator-doc-link.fitted:hover,\n",
              ".sk-estimator-doc-link.fitted:hover {\n",
              "  /* fitted */\n",
              "  background-color: var(--sklearn-color-fitted-level-3);\n",
              "  color: var(--sklearn-color-background);\n",
              "  text-decoration: none;\n",
              "}\n",
              "\n",
              "/* Span, style for the box shown on hovering the info icon */\n",
              ".sk-estimator-doc-link span {\n",
              "  display: none;\n",
              "  z-index: 9999;\n",
              "  position: relative;\n",
              "  font-weight: normal;\n",
              "  right: .2ex;\n",
              "  padding: .5ex;\n",
              "  margin: .5ex;\n",
              "  width: min-content;\n",
              "  min-width: 20ex;\n",
              "  max-width: 50ex;\n",
              "  color: var(--sklearn-color-text);\n",
              "  box-shadow: 2pt 2pt 4pt #999;\n",
              "  /* unfitted */\n",
              "  background: var(--sklearn-color-unfitted-level-0);\n",
              "  border: .5pt solid var(--sklearn-color-unfitted-level-3);\n",
              "}\n",
              "\n",
              ".sk-estimator-doc-link.fitted span {\n",
              "  /* fitted */\n",
              "  background: var(--sklearn-color-fitted-level-0);\n",
              "  border: var(--sklearn-color-fitted-level-3);\n",
              "}\n",
              "\n",
              ".sk-estimator-doc-link:hover span {\n",
              "  display: block;\n",
              "}\n",
              "\n",
              "/* \"?\"-specific style due to the `<a>` HTML tag */\n",
              "\n",
              "#sk-container-id-1 a.estimator_doc_link {\n",
              "  float: right;\n",
              "  font-size: 1rem;\n",
              "  line-height: 1em;\n",
              "  font-family: monospace;\n",
              "  background-color: var(--sklearn-color-background);\n",
              "  border-radius: 1rem;\n",
              "  height: 1rem;\n",
              "  width: 1rem;\n",
              "  text-decoration: none;\n",
              "  /* unfitted */\n",
              "  color: var(--sklearn-color-unfitted-level-1);\n",
              "  border: var(--sklearn-color-unfitted-level-1) 1pt solid;\n",
              "}\n",
              "\n",
              "#sk-container-id-1 a.estimator_doc_link.fitted {\n",
              "  /* fitted */\n",
              "  border: var(--sklearn-color-fitted-level-1) 1pt solid;\n",
              "  color: var(--sklearn-color-fitted-level-1);\n",
              "}\n",
              "\n",
              "/* On hover */\n",
              "#sk-container-id-1 a.estimator_doc_link:hover {\n",
              "  /* unfitted */\n",
              "  background-color: var(--sklearn-color-unfitted-level-3);\n",
              "  color: var(--sklearn-color-background);\n",
              "  text-decoration: none;\n",
              "}\n",
              "\n",
              "#sk-container-id-1 a.estimator_doc_link.fitted:hover {\n",
              "  /* fitted */\n",
              "  background-color: var(--sklearn-color-fitted-level-3);\n",
              "}\n",
              "</style><div id=\"sk-container-id-1\" class=\"sk-top-container\"><div class=\"sk-text-repr-fallback\"><pre>RandomForestClassifier(random_state=42)</pre><b>In a Jupyter environment, please rerun this cell to show the HTML representation or trust the notebook. <br />On GitHub, the HTML representation is unable to render, please try loading this page with nbviewer.org.</b></div><div class=\"sk-container\" hidden><div class=\"sk-item\"><div class=\"sk-estimator fitted sk-toggleable\"><input class=\"sk-toggleable__control sk-hidden--visually\" id=\"sk-estimator-id-1\" type=\"checkbox\" checked><label for=\"sk-estimator-id-1\" class=\"sk-toggleable__label fitted sk-toggleable__label-arrow\"><div><div>RandomForestClassifier</div></div><div><a class=\"sk-estimator-doc-link fitted\" rel=\"noreferrer\" target=\"_blank\" href=\"https://scikit-learn.org/1.6/modules/generated/sklearn.ensemble.RandomForestClassifier.html\">?<span>Documentation for RandomForestClassifier</span></a><span class=\"sk-estimator-doc-link fitted\">i<span>Fitted</span></span></div></label><div class=\"sk-toggleable__content fitted\"><pre>RandomForestClassifier(random_state=42)</pre></div> </div></div></div></div>"
            ]
          },
          "metadata": {},
          "execution_count": 6
        }
      ],
      "source": [
        "execution.wait(poll_interval=1)\n",
        "model_file = execution.outputs[\"model\"]\n",
        "\n",
        "with open(model_file, \"rb\") as f:\n",
        "    model = joblib.load(f)\n",
        "\n",
        "model"
      ]
    },
    {
      "cell_type": "markdown",
      "metadata": {
        "id": "a0o3PT4HAGau"
      },
      "source": [
        "Load some features and make predictions:"
      ]
    },
    {
      "cell_type": "code",
      "execution_count": 7,
      "metadata": {
        "colab": {
          "base_uri": "https://localhost:8080/"
        },
        "id": "JF2p7MePAGau",
        "outputId": "c909c4eb-ecda-4cd1-f4e8-ca72cdfafa8e"
      },
      "outputs": [
        {
          "output_type": "execute_result",
          "data": {
            "text/plain": [
              "array([0, 0, 0, 0, 0, 0, 0, 0, 0, 0, 0, 0, 0, 0, 0, 0, 0, 0, 0, 0, 0, 0,\n",
              "       0, 0, 0, 0, 0, 0, 0, 0, 0, 0, 0, 0, 0, 0, 0, 0, 0, 0, 0, 0, 0, 0,\n",
              "       0, 0, 0, 0, 0, 0, 0, 0, 0, 0, 0, 0, 0, 0, 0, 1, 1, 1, 1, 1, 1, 1,\n",
              "       1, 1, 1, 1, 1, 1, 1, 1, 1, 1, 1, 1, 1, 1, 1, 1, 1, 1, 1, 1, 1, 1,\n",
              "       1, 1, 1, 1, 1, 1, 1, 1, 1, 1, 1, 1, 1, 1, 1, 1, 1, 1, 1, 1, 1, 1,\n",
              "       1, 1, 1, 1, 1, 1, 1, 1, 1, 1, 1, 1, 1, 1, 1, 1, 1, 1, 1, 1, 2, 2,\n",
              "       2, 2, 2, 2, 2, 2, 2, 2, 2, 2, 2, 2, 2, 2, 2, 2, 2, 2, 2, 2, 2, 2,\n",
              "       2, 2, 2, 2, 2, 2, 2, 2, 2, 2, 2, 2, 2, 2, 2, 2, 2, 2, 2, 2, 2, 2,\n",
              "       2, 2])"
            ]
          },
          "metadata": {},
          "execution_count": 7
        }
      ],
      "source": [
        "features, _ = load_data()\n",
        "predictions = model.predict(features)\n",
        "predictions"
      ]
    },
    {
      "cell_type": "markdown",
      "metadata": {
        "id": "aQdHEz8ZAGau"
      },
      "source": [
        "### 🍽️ Serving the model in batch mode\n",
        "\n",
        "Here we define a simple batch prediction task."
      ]
    },
    {
      "cell_type": "code",
      "execution_count": 8,
      "metadata": {
        "id": "u2qFZ78CAGau"
      },
      "outputs": [],
      "source": [
        "Predictions = NamedTuple(\"Predictions\", [(\"predictions\", list[float])])\n",
        "\n",
        "@union.task(container_image=image)\n",
        "def batch_predict(model: FlyteFile, data: pd.DataFrame) -> Predictions:\n",
        "    with open(model, \"rb\") as f:\n",
        "        model = joblib.load(f)\n",
        "    return Predictions([float(x) for x in model.predict(data)])"
      ]
    },
    {
      "cell_type": "markdown",
      "metadata": {
        "id": "dKwMn2EXAGau"
      },
      "source": [
        "Run it on Union Serverless:"
      ]
    },
    {
      "cell_type": "code",
      "execution_count": 9,
      "metadata": {
        "colab": {
          "base_uri": "https://localhost:8080/",
          "height": 52
        },
        "id": "L9PyrgbhAGau",
        "outputId": "a0661e1a-1671-49dd-c4c7-03efc88755d0"
      },
      "outputs": [
        {
          "output_type": "execute_result",
          "data": {
            "text/plain": [
              "Flyte Serialized object (FlyteWorkflowExecution):\n",
              "  id:\n",
              "    project: default\n",
              "    domain: development\n",
              "    name: azpbvt6fjwq6t2fr6l4j\n",
              "  spec:\n",
              "    launch_plan:\n",
              "      resource_type: 1\n",
              "      project: default\n",
              "      domain: development\n",
              "      name: batch_predict\n",
              "      version: 67FE0jy4fpDU5YpyFf-ywQ\n",
              "    metadata:\n",
              "      principal: 00uh8ip848eXOG2cq5d7\n",
              "  closure:\n",
              "    created_at:\n",
              "      seconds: 1739897268\n",
              "      nanos: 912447000\n",
              "    updated_at:\n",
              "      seconds: 1739897268\n",
              "      nanos: 912447000"
            ],
            "text/html": [
              "<b>Execution is in-progress. </b> <a href='https://serverless.union.ai/org/davidmirror-ops/projects/default/domains/development/executions/azpbvt6fjwq6t2fr6l4j'>https://serverless.union.ai/org/davidmirror-ops/projects/default/domains/development/executions/azpbvt6fjwq6t2fr6l4j</a>"
            ]
          },
          "metadata": {},
          "execution_count": 9
        }
      ],
      "source": [
        "execution = serverless.execute(\n",
        "    batch_predict,\n",
        "    inputs={\"model\": model_file, \"data\": features}\n",
        ")\n",
        "execution"
      ]
    },
    {
      "cell_type": "markdown",
      "metadata": {
        "id": "ab_tv1-9AGau"
      },
      "source": [
        "Fetch the predictions:"
      ]
    },
    {
      "cell_type": "code",
      "execution_count": 10,
      "metadata": {
        "colab": {
          "base_uri": "https://localhost:8080/"
        },
        "id": "lKpaCFE5AGau",
        "outputId": "de83e329-5014-4cc6-c371-de45ad6406c7"
      },
      "outputs": [
        {
          "output_type": "execute_result",
          "data": {
            "text/plain": [
              "[0.0, 0.0, 0.0, 0.0, 0.0]"
            ]
          },
          "metadata": {},
          "execution_count": 10
        }
      ],
      "source": [
        "execution.wait(poll_interval=1)\n",
        "predictions = execution.outputs[\"predictions\"]\n",
        "predictions[:5]"
      ]
    },
    {
      "cell_type": "markdown",
      "metadata": {
        "id": "Mn9Hxl_eAGav"
      },
      "source": [
        "### 🥒 The Pickle Attack"
      ]
    },
    {
      "cell_type": "code",
      "execution_count": 18,
      "metadata": {
        "colab": {
          "base_uri": "https://localhost:8080/",
          "height": 35
        },
        "id": "uoe44cggAGav",
        "outputId": "ae435c55-0a53-42e1-e4ef-3892adbe778c"
      },
      "outputs": [
        {
          "output_type": "execute_result",
          "data": {
            "text/plain": [
              "'model.joblib'"
            ],
            "application/vnd.google.colaboratory.intrinsic+json": {
              "type": "string"
            }
          },
          "metadata": {},
          "execution_count": 18
        }
      ],
      "source": [
        "class PickleAttack:\n",
        "    def __init__(self): ...\n",
        "\n",
        "    def __reduce__(self):\n",
        "        # os.system will execute the command\n",
        "        import os\n",
        "        return (os.system, ('echo \"👋 Hello there, I\\'m a pickle attack! 🥒\"',))\n",
        "\n",
        "\n",
        "fake_model = PickleAttack()\n",
        "fake_model_path =\"model.joblib\"\n",
        "with open(fake_model_path, \"wb\") as f:\n",
        "    joblib.dump(fake_model, f)\n",
        "\n",
        "fake_model_path"
      ]
    },
    {
      "cell_type": "code",
      "execution_count": null,
      "metadata": {
        "colab": {
          "base_uri": "https://localhost:8080/",
          "height": 52
        },
        "id": "2maFrwRRAGav",
        "outputId": "a3be563e-2db0-483e-f609-64bbdd89e7bd"
      },
      "outputs": [
        {
          "output_type": "execute_result",
          "data": {
            "text/plain": [
              "Flyte Serialized object (FlyteWorkflowExecution):\n",
              "  id:\n",
              "    project: default\n",
              "    domain: development\n",
              "    name: aztrnn5ktvvnbfnp4vzs\n",
              "  spec:\n",
              "    launch_plan:\n",
              "      resource_type: 1\n",
              "      project: default\n",
              "      domain: development\n",
              "      name: batch_predict\n",
              "      version: rAB0jYL0eKwYBfkgZ6qYKg\n",
              "    metadata:\n",
              "      principal: 00uh8ip848eXOG2cq5d7\n",
              "  closure:\n",
              "    created_at:\n",
              "      seconds: 1739384751\n",
              "      nanos: 453047000\n",
              "    updated_at:\n",
              "      seconds: 1739384751\n",
              "      nanos: 453047000"
            ],
            "text/html": [
              "<b>Execution is in-progress. </b> <a href='https://serverless.union.ai/org/davidmirror-ops/projects/default/domains/development/executions/aztrnn5ktvvnbfnp4vzs'>https://serverless.union.ai/org/davidmirror-ops/projects/default/domains/development/executions/aztrnn5ktvvnbfnp4vzs</a>"
            ]
          },
          "metadata": {},
          "execution_count": 14
        }
      ],
      "source": [
        "execution = serverless.execute(\n",
        "    batch_predict, inputs={\"model\": fake_model_path, \"data\": features}\n",
        ")\n",
        "execution"
      ]
    },
    {
      "cell_type": "markdown",
      "source": [
        "### Mitigation: use secure serialization formats"
      ],
      "metadata": {
        "id": "CB82Ym_PZZd7"
      }
    },
    {
      "cell_type": "code",
      "source": [
        "# We now serialize the trained model into an ONNX-formatted file\n",
        "\n",
        "import sys\n",
        "from functools import partial\n",
        "from typing import NamedTuple\n",
        "import numpy as np\n",
        "import pandas as pd\n",
        "\n",
        "import union\n",
        "from flytekit.deck import MarkdownRenderer\n",
        "from flytekit.types.file import ONNXFile\n",
        "\n",
        "from sklearn.datasets import load_wine\n",
        "from sklearn.model_selection import train_test_split\n",
        "from sklearn.ensemble import RandomForestClassifier\n",
        "from sklearn.metrics import accuracy_score\n",
        "\n",
        "import onnxruntime as rt\n",
        "from flytekitplugins.onnxscikitlearn import ScikitLearn2ONNX, ScikitLearn2ONNXConfig\n",
        "from skl2onnx.common.data_types import FloatTensorType\n",
        "from typing_extensions import Annotated\n",
        "\n",
        "\n",
        "image = union.ImageSpec.from_env(\n",
        "    name=\"secure-formats\",\n",
        "    packages=[\n",
        "        \"bandit\",\n",
        "        \"flytekit>=1.14.0\",\n",
        "        \"joblib\",\n",
        "        \"openai\",\n",
        "        \"pandas\",\n",
        "        \"pyarrow\",\n",
        "        \"scikit-learn\",\n",
        "        \"union==0.1.138\",\n",
        "        \"flytekitplugins-onnxscikitlearn\",\n",
        "        \"onnxruntime\",\n",
        "        \"numpy\",\n",
        "    ],\n",
        ")\n",
        "\n",
        "task = partial(\n",
        "    union.task,\n",
        "    container_image=image,\n",
        "    cache=True,\n",
        "    cache_version=\"4\",\n",
        ")\n",
        "\n",
        "TrainingOutput = NamedTuple(\n",
        "    \"TrainingOutput\",\n",
        "    [\n",
        "        (\n",
        "            \"TrainedModel\",\n",
        "            Annotated[\n",
        "                ScikitLearn2ONNX,\n",
        "                ScikitLearn2ONNXConfig(\n",
        "                    initial_types=[(\"float_input\", FloatTensorType([None, None]))],\n",
        "                    target_opset=12,\n",
        "                ),\n",
        "            ],\n",
        "        ),\n",
        "        (\"accuracy\", float),\n",
        "    ],\n",
        ")\n",
        "\n",
        "@task\n",
        "def load_data() -> tuple[pd.DataFrame, pd.Series]:\n",
        "    wine = load_wine()\n",
        "    X = pd.DataFrame(wine.data, columns=wine.feature_names)\n",
        "    y = pd.Series(wine.target)\n",
        "    return X, y\n",
        "\n",
        "\n",
        "@task\n",
        "def split_data(X: pd.DataFrame, y: pd.Series) -> tuple[pd.DataFrame, pd.DataFrame, pd.Series, pd.Series]:\n",
        "    return train_test_split(X, y, test_size=0.2, random_state=42)\n",
        "\n",
        "\n",
        "@task\n",
        "def train_model(X_train: pd.DataFrame, y_train: pd.Series) -> TrainingOutput:\n",
        "    model = RandomForestClassifier(n_estimators=100, random_state=42)\n",
        "    model.fit(X_train, y_train)\n",
        "    return TrainingOutput(TrainedModel=ScikitLearn2ONNX(model),accuracy=0.0)\n",
        "\n",
        "\n",
        "@task(enable_deck=True)\n",
        "def evaluate_model(model: ONNXFile, X_test: pd.DataFrame, y_test: pd.Series) -> float:\n",
        "    session = rt.InferenceSession(model.download())\n",
        "    input_name = session.get_inputs()[0].name\n",
        "    label_name = session.get_outputs()[0].name\n",
        "    y_pred = session.run(None, {input_name: X_test.values.astype(np.float32)})[0]\n",
        "    accuracy = accuracy_score(y_test, y_pred)\n",
        "    deck = union.Deck(name=\"Accuracy Report\", html=MarkdownRenderer().to_html(f\"# Test accuracy: {accuracy}\"))\n",
        "    union.current_context().decks.insert(0, deck)\n",
        "    return accuracy\n",
        "\n",
        "\n",
        "@union.workflow\n",
        "def secure_wine_classification_workflow() -> ModelOutput:\n",
        "    X, y = load_data()\n",
        "    X_train, X_test, y_train, y_test = split_data(X, y)\n",
        "    model_output = train_model(X_train, y_train)\n",
        "    accuracy = evaluate_model(model_output.TrainedModel, X_test, y_test)\n",
        "    return model_output.TrainedModel, accuracy"
      ],
      "metadata": {
        "id": "5R_ZZbhRZsjP"
      },
      "execution_count": 58,
      "outputs": []
    },
    {
      "cell_type": "markdown",
      "source": [
        "Run the sanitized model"
      ],
      "metadata": {
        "id": "roFNT_I3h_bK"
      }
    },
    {
      "cell_type": "code",
      "source": [
        "sanitized_execution = serverless.execute(secure_wine_classification_workflow, inputs={})\n",
        "sanitized_execution"
      ],
      "metadata": {
        "colab": {
          "base_uri": "https://localhost:8080/",
          "height": 52
        },
        "id": "KaTawUQGiFgU",
        "outputId": "8f074d58-62e9-4b6b-f667-fe4e7de7f040"
      },
      "execution_count": 59,
      "outputs": [
        {
          "output_type": "execute_result",
          "data": {
            "text/plain": [
              "Flyte Serialized object (FlyteWorkflowExecution):\n",
              "  id:\n",
              "    project: default\n",
              "    domain: development\n",
              "    name: ad2pk5lg4k9p5jzd6kj5\n",
              "  spec:\n",
              "    launch_plan:\n",
              "      resource_type: 3\n",
              "      project: default\n",
              "      domain: development\n",
              "      name: secure_wine_classification_workflow\n",
              "      version: hoQLuPdR1wkDtO8GfhdnCA\n",
              "    metadata:\n",
              "      principal: 00uh8ip848eXOG2cq5d7\n",
              "  closure:\n",
              "    created_at:\n",
              "      seconds: 1739831551\n",
              "      nanos: 30242000\n",
              "    updated_at:\n",
              "      seconds: 1739831551\n",
              "      nanos: 30242000"
            ],
            "text/html": [
              "<b>Execution is in-progress. </b> <a href='https://serverless.union.ai/org/davidmirror-ops/projects/default/domains/development/executions/ad2pk5lg4k9p5jzd6kj5'>https://serverless.union.ai/org/davidmirror-ops/projects/default/domains/development/executions/ad2pk5lg4k9p5jzd6kj5</a>"
            ]
          },
          "metadata": {},
          "execution_count": 59
        }
      ]
    },
    {
      "cell_type": "markdown",
      "source": [
        "Update batch predictions code"
      ],
      "metadata": {
        "id": "w9jsH3dA_Oxn"
      }
    },
    {
      "cell_type": "code",
      "source": [
        "Predictions = NamedTuple(\"Predictions\", [(\"predictions\", list[float])])\n",
        "\n",
        "@union.task(container_image=image)\n",
        "def secure_batch_predict(model: ONNXFile, data: pd.DataFrame) -> Predictions:\n",
        "       session = rt.InferenceSession(model.download())\n",
        "       input_name = session.get_inputs()[0].name\n",
        "       predictions = session.run(None, {input_name: data.values.astype(np.float32)})[0]\n",
        "       return Predictions([float(x) for x in predictions])"
      ],
      "metadata": {
        "id": "cHyMcLZx_VqG"
      },
      "execution_count": null,
      "outputs": []
    },
    {
      "cell_type": "markdown",
      "source": [
        "Try to run the pickle attack again (it should fail)"
      ],
      "metadata": {
        "id": "LAvFfWsaG68Q"
      }
    },
    {
      "cell_type": "code",
      "source": [
        "class PickleAttack:\n",
        "    def __init__(self): ...\n",
        "\n",
        "    def __reduce__(self):\n",
        "        # os.system will execute the command\n",
        "        import os\n",
        "        return (os.system, ('echo \"👋 Hello there, I\\'m a pickle attack! 🥒\"',))\n",
        "\n",
        "\n",
        "fake_model = PickleAttack()\n",
        "fake_model_path =\"model.joblib\"\n",
        "with open(fake_model_path, \"wb\") as f:\n",
        "    joblib.dump(fake_model, f)\n",
        "\n",
        "execution = serverless.execute(\n",
        "    secure_batch_predict, inputs={\"model\": fake_model_path, \"data\": features}\n",
        ")\n",
        "execution"
      ],
      "metadata": {
        "colab": {
          "base_uri": "https://localhost:8080/",
          "height": 52
        },
        "id": "T3tNiJvSHBMQ",
        "outputId": "71b1babf-2563-4a21-9f04-1dcdfab9b822"
      },
      "execution_count": 73,
      "outputs": [
        {
          "output_type": "execute_result",
          "data": {
            "text/plain": [
              "Flyte Serialized object (FlyteWorkflowExecution):\n",
              "  id:\n",
              "    project: default\n",
              "    domain: development\n",
              "    name: apmg8ffvjs5zj7dk77dr\n",
              "  spec:\n",
              "    launch_plan:\n",
              "      resource_type: 1\n",
              "      project: default\n",
              "      domain: development\n",
              "      name: batch_predict\n",
              "      version: 0_9Lt2n7JvbcHSwfVTk34Q\n",
              "    metadata:\n",
              "      principal: 00uh8ip848eXOG2cq5d7\n",
              "  closure:\n",
              "    created_at:\n",
              "      seconds: 1739832737\n",
              "      nanos: 168071000\n",
              "    updated_at:\n",
              "      seconds: 1739832737\n",
              "      nanos: 168071000"
            ],
            "text/html": [
              "<b>Execution is in-progress. </b> <a href='https://serverless.union.ai/org/davidmirror-ops/projects/default/domains/development/executions/apmg8ffvjs5zj7dk77dr'>https://serverless.union.ai/org/davidmirror-ops/projects/default/domains/development/executions/apmg8ffvjs5zj7dk77dr</a>"
            ]
          },
          "metadata": {},
          "execution_count": 73
        }
      ]
    },
    {
      "cell_type": "markdown",
      "source": [
        "Expected result:![Screenshot 2025-02-18 at 12.13.27 PM.png](data:image/png;base64,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)"
      ],
      "metadata": {
        "id": "VFG-zxFyDSQO"
      }
    },
    {
      "cell_type": "markdown",
      "metadata": {
        "id": "ROasmaH8AGav"
      },
      "source": [
        "### Mitigation: include md5hash metadata"
      ]
    },
    {
      "cell_type": "code",
      "execution_count": 11,
      "metadata": {
        "id": "d1-75moJAGav"
      },
      "outputs": [],
      "source": [
        "import hashlib\n",
        "from dataclasses import dataclass\n",
        "\n",
        "\n",
        "@dataclass\n",
        "class Model:\n",
        "    file: FlyteFile\n",
        "    md5hash: str\n",
        "\n",
        "    def __post_init__(self):\n",
        "        with open(self.file, \"rb\") as f:\n",
        "            md5hash = hashlib.md5(f.read()).hexdigest()\n",
        "        if md5hash != self.md5hash:\n",
        "            raise ValueError(\n",
        "                \"⛔️ Model md5hash mismatch: expected \"\n",
        "                f\"{self.md5hash}, found {md5hash}.\"\n",
        "            )\n",
        "\n",
        "ModelOutput = NamedTuple(\"Output\", [(\"model\", Model), (\"accuracy\", float)])\n",
        "\n",
        "\n",
        "\n",
        "@task\n",
        "def secure_train_model(X_train: pd.DataFrame, y_train: pd.Series) -> Model:\n",
        "    model = RandomForestClassifier(n_estimators=100, random_state=42)\n",
        "    model.fit(X_train, y_train)\n",
        "    path = \"model.joblib\"\n",
        "    joblib.dump(model, path)\n",
        "    md5hash = hashlib.md5(open(path, 'rb').read()).hexdigest()\n",
        "    return Model(file=FlyteFile(path=path), md5hash=md5hash)\n",
        "\n",
        "\n",
        "@task(enable_deck=True)\n",
        "def secure_evaluate_model(model: Model, X_test: pd.DataFrame, y_test: pd.Series) -> float:\n",
        "    with open(model.file, \"rb\") as f:\n",
        "        model = joblib.load(f)\n",
        "    y_pred = model.predict(X_test)\n",
        "    accuracy = accuracy_score(y_test, y_pred)\n",
        "    deck = union.Deck(name=\"Accuracy Report\", html=MarkdownRenderer().to_html(f\"# Test accuracy: {accuracy}\"))\n",
        "    union.current_context().decks.insert(0, deck)\n",
        "    return accuracy\n",
        "\n",
        "\n",
        "@union.workflow\n",
        "def secure_wine_classification_workflow() -> ModelOutput:\n",
        "    X, y = load_data()\n",
        "    X_train, X_test, y_train, y_test = split_data(X, y)\n",
        "    model = secure_train_model(X_train, y_train)\n",
        "    accuracy = secure_evaluate_model(model, X_test, y_test)\n",
        "    return model, accuracy"
      ]
    },
    {
      "cell_type": "markdown",
      "metadata": {
        "id": "iBQXDe-YAGav"
      },
      "source": [
        "Run the secure training workflow:"
      ]
    },
    {
      "cell_type": "code",
      "execution_count": 12,
      "metadata": {
        "colab": {
          "base_uri": "https://localhost:8080/",
          "height": 52
        },
        "id": "5vegvJfOAGav",
        "outputId": "d17f9714-c139-4f1c-ddd6-9b9ed3e23db0"
      },
      "outputs": [
        {
          "output_type": "execute_result",
          "data": {
            "text/plain": [
              "Flyte Serialized object (FlyteWorkflowExecution):\n",
              "  id:\n",
              "    project: default\n",
              "    domain: development\n",
              "    name: axd95kvn742mdgdj72wn\n",
              "  spec:\n",
              "    launch_plan:\n",
              "      resource_type: 3\n",
              "      project: default\n",
              "      domain: development\n",
              "      name: secure_wine_classification_workflow\n",
              "      version: jfzUTMJKmIrhAbAJGJ-cqA\n",
              "    metadata:\n",
              "      principal: 00uh8ip848eXOG2cq5d7\n",
              "  closure:\n",
              "    created_at:\n",
              "      seconds: 1739898922\n",
              "      nanos: 951089000\n",
              "    updated_at:\n",
              "      seconds: 1739898922\n",
              "      nanos: 951089000"
            ],
            "text/html": [
              "<b>Execution is in-progress. </b> <a href='https://serverless.union.ai/org/davidmirror-ops/projects/default/domains/development/executions/axd95kvn742mdgdj72wn'>https://serverless.union.ai/org/davidmirror-ops/projects/default/domains/development/executions/axd95kvn742mdgdj72wn</a>"
            ]
          },
          "metadata": {},
          "execution_count": 12
        }
      ],
      "source": [
        "execution = serverless.execute(secure_wine_classification_workflow, inputs={})\n",
        "execution"
      ]
    },
    {
      "cell_type": "code",
      "execution_count": 13,
      "metadata": {
        "colab": {
          "base_uri": "https://localhost:8080/",
          "height": 97
        },
        "id": "TXd7z4JDAGav",
        "outputId": "353b3af6-3b9f-46a4-c776-e02dac4021aa"
      },
      "outputs": [
        {
          "output_type": "stream",
          "name": "stdout",
          "text": [
            "md5hash: b087efd0595a961982db5d35bce8a690\n"
          ]
        },
        {
          "output_type": "execute_result",
          "data": {
            "text/plain": [
              "RandomForestClassifier(random_state=42)"
            ],
            "text/html": [
              "<style>#sk-container-id-2 {\n",
              "  /* Definition of color scheme common for light and dark mode */\n",
              "  --sklearn-color-text: #000;\n",
              "  --sklearn-color-text-muted: #666;\n",
              "  --sklearn-color-line: gray;\n",
              "  /* Definition of color scheme for unfitted estimators */\n",
              "  --sklearn-color-unfitted-level-0: #fff5e6;\n",
              "  --sklearn-color-unfitted-level-1: #f6e4d2;\n",
              "  --sklearn-color-unfitted-level-2: #ffe0b3;\n",
              "  --sklearn-color-unfitted-level-3: chocolate;\n",
              "  /* Definition of color scheme for fitted estimators */\n",
              "  --sklearn-color-fitted-level-0: #f0f8ff;\n",
              "  --sklearn-color-fitted-level-1: #d4ebff;\n",
              "  --sklearn-color-fitted-level-2: #b3dbfd;\n",
              "  --sklearn-color-fitted-level-3: cornflowerblue;\n",
              "\n",
              "  /* Specific color for light theme */\n",
              "  --sklearn-color-text-on-default-background: var(--sg-text-color, var(--theme-code-foreground, var(--jp-content-font-color1, black)));\n",
              "  --sklearn-color-background: var(--sg-background-color, var(--theme-background, var(--jp-layout-color0, white)));\n",
              "  --sklearn-color-border-box: var(--sg-text-color, var(--theme-code-foreground, var(--jp-content-font-color1, black)));\n",
              "  --sklearn-color-icon: #696969;\n",
              "\n",
              "  @media (prefers-color-scheme: dark) {\n",
              "    /* Redefinition of color scheme for dark theme */\n",
              "    --sklearn-color-text-on-default-background: var(--sg-text-color, var(--theme-code-foreground, var(--jp-content-font-color1, white)));\n",
              "    --sklearn-color-background: var(--sg-background-color, var(--theme-background, var(--jp-layout-color0, #111)));\n",
              "    --sklearn-color-border-box: var(--sg-text-color, var(--theme-code-foreground, var(--jp-content-font-color1, white)));\n",
              "    --sklearn-color-icon: #878787;\n",
              "  }\n",
              "}\n",
              "\n",
              "#sk-container-id-2 {\n",
              "  color: var(--sklearn-color-text);\n",
              "}\n",
              "\n",
              "#sk-container-id-2 pre {\n",
              "  padding: 0;\n",
              "}\n",
              "\n",
              "#sk-container-id-2 input.sk-hidden--visually {\n",
              "  border: 0;\n",
              "  clip: rect(1px 1px 1px 1px);\n",
              "  clip: rect(1px, 1px, 1px, 1px);\n",
              "  height: 1px;\n",
              "  margin: -1px;\n",
              "  overflow: hidden;\n",
              "  padding: 0;\n",
              "  position: absolute;\n",
              "  width: 1px;\n",
              "}\n",
              "\n",
              "#sk-container-id-2 div.sk-dashed-wrapped {\n",
              "  border: 1px dashed var(--sklearn-color-line);\n",
              "  margin: 0 0.4em 0.5em 0.4em;\n",
              "  box-sizing: border-box;\n",
              "  padding-bottom: 0.4em;\n",
              "  background-color: var(--sklearn-color-background);\n",
              "}\n",
              "\n",
              "#sk-container-id-2 div.sk-container {\n",
              "  /* jupyter's `normalize.less` sets `[hidden] { display: none; }`\n",
              "     but bootstrap.min.css set `[hidden] { display: none !important; }`\n",
              "     so we also need the `!important` here to be able to override the\n",
              "     default hidden behavior on the sphinx rendered scikit-learn.org.\n",
              "     See: https://github.com/scikit-learn/scikit-learn/issues/21755 */\n",
              "  display: inline-block !important;\n",
              "  position: relative;\n",
              "}\n",
              "\n",
              "#sk-container-id-2 div.sk-text-repr-fallback {\n",
              "  display: none;\n",
              "}\n",
              "\n",
              "div.sk-parallel-item,\n",
              "div.sk-serial,\n",
              "div.sk-item {\n",
              "  /* draw centered vertical line to link estimators */\n",
              "  background-image: linear-gradient(var(--sklearn-color-text-on-default-background), var(--sklearn-color-text-on-default-background));\n",
              "  background-size: 2px 100%;\n",
              "  background-repeat: no-repeat;\n",
              "  background-position: center center;\n",
              "}\n",
              "\n",
              "/* Parallel-specific style estimator block */\n",
              "\n",
              "#sk-container-id-2 div.sk-parallel-item::after {\n",
              "  content: \"\";\n",
              "  width: 100%;\n",
              "  border-bottom: 2px solid var(--sklearn-color-text-on-default-background);\n",
              "  flex-grow: 1;\n",
              "}\n",
              "\n",
              "#sk-container-id-2 div.sk-parallel {\n",
              "  display: flex;\n",
              "  align-items: stretch;\n",
              "  justify-content: center;\n",
              "  background-color: var(--sklearn-color-background);\n",
              "  position: relative;\n",
              "}\n",
              "\n",
              "#sk-container-id-2 div.sk-parallel-item {\n",
              "  display: flex;\n",
              "  flex-direction: column;\n",
              "}\n",
              "\n",
              "#sk-container-id-2 div.sk-parallel-item:first-child::after {\n",
              "  align-self: flex-end;\n",
              "  width: 50%;\n",
              "}\n",
              "\n",
              "#sk-container-id-2 div.sk-parallel-item:last-child::after {\n",
              "  align-self: flex-start;\n",
              "  width: 50%;\n",
              "}\n",
              "\n",
              "#sk-container-id-2 div.sk-parallel-item:only-child::after {\n",
              "  width: 0;\n",
              "}\n",
              "\n",
              "/* Serial-specific style estimator block */\n",
              "\n",
              "#sk-container-id-2 div.sk-serial {\n",
              "  display: flex;\n",
              "  flex-direction: column;\n",
              "  align-items: center;\n",
              "  background-color: var(--sklearn-color-background);\n",
              "  padding-right: 1em;\n",
              "  padding-left: 1em;\n",
              "}\n",
              "\n",
              "\n",
              "/* Toggleable style: style used for estimator/Pipeline/ColumnTransformer box that is\n",
              "clickable and can be expanded/collapsed.\n",
              "- Pipeline and ColumnTransformer use this feature and define the default style\n",
              "- Estimators will overwrite some part of the style using the `sk-estimator` class\n",
              "*/\n",
              "\n",
              "/* Pipeline and ColumnTransformer style (default) */\n",
              "\n",
              "#sk-container-id-2 div.sk-toggleable {\n",
              "  /* Default theme specific background. It is overwritten whether we have a\n",
              "  specific estimator or a Pipeline/ColumnTransformer */\n",
              "  background-color: var(--sklearn-color-background);\n",
              "}\n",
              "\n",
              "/* Toggleable label */\n",
              "#sk-container-id-2 label.sk-toggleable__label {\n",
              "  cursor: pointer;\n",
              "  display: flex;\n",
              "  width: 100%;\n",
              "  margin-bottom: 0;\n",
              "  padding: 0.5em;\n",
              "  box-sizing: border-box;\n",
              "  text-align: center;\n",
              "  align-items: start;\n",
              "  justify-content: space-between;\n",
              "  gap: 0.5em;\n",
              "}\n",
              "\n",
              "#sk-container-id-2 label.sk-toggleable__label .caption {\n",
              "  font-size: 0.6rem;\n",
              "  font-weight: lighter;\n",
              "  color: var(--sklearn-color-text-muted);\n",
              "}\n",
              "\n",
              "#sk-container-id-2 label.sk-toggleable__label-arrow:before {\n",
              "  /* Arrow on the left of the label */\n",
              "  content: \"▸\";\n",
              "  float: left;\n",
              "  margin-right: 0.25em;\n",
              "  color: var(--sklearn-color-icon);\n",
              "}\n",
              "\n",
              "#sk-container-id-2 label.sk-toggleable__label-arrow:hover:before {\n",
              "  color: var(--sklearn-color-text);\n",
              "}\n",
              "\n",
              "/* Toggleable content - dropdown */\n",
              "\n",
              "#sk-container-id-2 div.sk-toggleable__content {\n",
              "  max-height: 0;\n",
              "  max-width: 0;\n",
              "  overflow: hidden;\n",
              "  text-align: left;\n",
              "  /* unfitted */\n",
              "  background-color: var(--sklearn-color-unfitted-level-0);\n",
              "}\n",
              "\n",
              "#sk-container-id-2 div.sk-toggleable__content.fitted {\n",
              "  /* fitted */\n",
              "  background-color: var(--sklearn-color-fitted-level-0);\n",
              "}\n",
              "\n",
              "#sk-container-id-2 div.sk-toggleable__content pre {\n",
              "  margin: 0.2em;\n",
              "  border-radius: 0.25em;\n",
              "  color: var(--sklearn-color-text);\n",
              "  /* unfitted */\n",
              "  background-color: var(--sklearn-color-unfitted-level-0);\n",
              "}\n",
              "\n",
              "#sk-container-id-2 div.sk-toggleable__content.fitted pre {\n",
              "  /* unfitted */\n",
              "  background-color: var(--sklearn-color-fitted-level-0);\n",
              "}\n",
              "\n",
              "#sk-container-id-2 input.sk-toggleable__control:checked~div.sk-toggleable__content {\n",
              "  /* Expand drop-down */\n",
              "  max-height: 200px;\n",
              "  max-width: 100%;\n",
              "  overflow: auto;\n",
              "}\n",
              "\n",
              "#sk-container-id-2 input.sk-toggleable__control:checked~label.sk-toggleable__label-arrow:before {\n",
              "  content: \"▾\";\n",
              "}\n",
              "\n",
              "/* Pipeline/ColumnTransformer-specific style */\n",
              "\n",
              "#sk-container-id-2 div.sk-label input.sk-toggleable__control:checked~label.sk-toggleable__label {\n",
              "  color: var(--sklearn-color-text);\n",
              "  background-color: var(--sklearn-color-unfitted-level-2);\n",
              "}\n",
              "\n",
              "#sk-container-id-2 div.sk-label.fitted input.sk-toggleable__control:checked~label.sk-toggleable__label {\n",
              "  background-color: var(--sklearn-color-fitted-level-2);\n",
              "}\n",
              "\n",
              "/* Estimator-specific style */\n",
              "\n",
              "/* Colorize estimator box */\n",
              "#sk-container-id-2 div.sk-estimator input.sk-toggleable__control:checked~label.sk-toggleable__label {\n",
              "  /* unfitted */\n",
              "  background-color: var(--sklearn-color-unfitted-level-2);\n",
              "}\n",
              "\n",
              "#sk-container-id-2 div.sk-estimator.fitted input.sk-toggleable__control:checked~label.sk-toggleable__label {\n",
              "  /* fitted */\n",
              "  background-color: var(--sklearn-color-fitted-level-2);\n",
              "}\n",
              "\n",
              "#sk-container-id-2 div.sk-label label.sk-toggleable__label,\n",
              "#sk-container-id-2 div.sk-label label {\n",
              "  /* The background is the default theme color */\n",
              "  color: var(--sklearn-color-text-on-default-background);\n",
              "}\n",
              "\n",
              "/* On hover, darken the color of the background */\n",
              "#sk-container-id-2 div.sk-label:hover label.sk-toggleable__label {\n",
              "  color: var(--sklearn-color-text);\n",
              "  background-color: var(--sklearn-color-unfitted-level-2);\n",
              "}\n",
              "\n",
              "/* Label box, darken color on hover, fitted */\n",
              "#sk-container-id-2 div.sk-label.fitted:hover label.sk-toggleable__label.fitted {\n",
              "  color: var(--sklearn-color-text);\n",
              "  background-color: var(--sklearn-color-fitted-level-2);\n",
              "}\n",
              "\n",
              "/* Estimator label */\n",
              "\n",
              "#sk-container-id-2 div.sk-label label {\n",
              "  font-family: monospace;\n",
              "  font-weight: bold;\n",
              "  display: inline-block;\n",
              "  line-height: 1.2em;\n",
              "}\n",
              "\n",
              "#sk-container-id-2 div.sk-label-container {\n",
              "  text-align: center;\n",
              "}\n",
              "\n",
              "/* Estimator-specific */\n",
              "#sk-container-id-2 div.sk-estimator {\n",
              "  font-family: monospace;\n",
              "  border: 1px dotted var(--sklearn-color-border-box);\n",
              "  border-radius: 0.25em;\n",
              "  box-sizing: border-box;\n",
              "  margin-bottom: 0.5em;\n",
              "  /* unfitted */\n",
              "  background-color: var(--sklearn-color-unfitted-level-0);\n",
              "}\n",
              "\n",
              "#sk-container-id-2 div.sk-estimator.fitted {\n",
              "  /* fitted */\n",
              "  background-color: var(--sklearn-color-fitted-level-0);\n",
              "}\n",
              "\n",
              "/* on hover */\n",
              "#sk-container-id-2 div.sk-estimator:hover {\n",
              "  /* unfitted */\n",
              "  background-color: var(--sklearn-color-unfitted-level-2);\n",
              "}\n",
              "\n",
              "#sk-container-id-2 div.sk-estimator.fitted:hover {\n",
              "  /* fitted */\n",
              "  background-color: var(--sklearn-color-fitted-level-2);\n",
              "}\n",
              "\n",
              "/* Specification for estimator info (e.g. \"i\" and \"?\") */\n",
              "\n",
              "/* Common style for \"i\" and \"?\" */\n",
              "\n",
              ".sk-estimator-doc-link,\n",
              "a:link.sk-estimator-doc-link,\n",
              "a:visited.sk-estimator-doc-link {\n",
              "  float: right;\n",
              "  font-size: smaller;\n",
              "  line-height: 1em;\n",
              "  font-family: monospace;\n",
              "  background-color: var(--sklearn-color-background);\n",
              "  border-radius: 1em;\n",
              "  height: 1em;\n",
              "  width: 1em;\n",
              "  text-decoration: none !important;\n",
              "  margin-left: 0.5em;\n",
              "  text-align: center;\n",
              "  /* unfitted */\n",
              "  border: var(--sklearn-color-unfitted-level-1) 1pt solid;\n",
              "  color: var(--sklearn-color-unfitted-level-1);\n",
              "}\n",
              "\n",
              ".sk-estimator-doc-link.fitted,\n",
              "a:link.sk-estimator-doc-link.fitted,\n",
              "a:visited.sk-estimator-doc-link.fitted {\n",
              "  /* fitted */\n",
              "  border: var(--sklearn-color-fitted-level-1) 1pt solid;\n",
              "  color: var(--sklearn-color-fitted-level-1);\n",
              "}\n",
              "\n",
              "/* On hover */\n",
              "div.sk-estimator:hover .sk-estimator-doc-link:hover,\n",
              ".sk-estimator-doc-link:hover,\n",
              "div.sk-label-container:hover .sk-estimator-doc-link:hover,\n",
              ".sk-estimator-doc-link:hover {\n",
              "  /* unfitted */\n",
              "  background-color: var(--sklearn-color-unfitted-level-3);\n",
              "  color: var(--sklearn-color-background);\n",
              "  text-decoration: none;\n",
              "}\n",
              "\n",
              "div.sk-estimator.fitted:hover .sk-estimator-doc-link.fitted:hover,\n",
              ".sk-estimator-doc-link.fitted:hover,\n",
              "div.sk-label-container:hover .sk-estimator-doc-link.fitted:hover,\n",
              ".sk-estimator-doc-link.fitted:hover {\n",
              "  /* fitted */\n",
              "  background-color: var(--sklearn-color-fitted-level-3);\n",
              "  color: var(--sklearn-color-background);\n",
              "  text-decoration: none;\n",
              "}\n",
              "\n",
              "/* Span, style for the box shown on hovering the info icon */\n",
              ".sk-estimator-doc-link span {\n",
              "  display: none;\n",
              "  z-index: 9999;\n",
              "  position: relative;\n",
              "  font-weight: normal;\n",
              "  right: .2ex;\n",
              "  padding: .5ex;\n",
              "  margin: .5ex;\n",
              "  width: min-content;\n",
              "  min-width: 20ex;\n",
              "  max-width: 50ex;\n",
              "  color: var(--sklearn-color-text);\n",
              "  box-shadow: 2pt 2pt 4pt #999;\n",
              "  /* unfitted */\n",
              "  background: var(--sklearn-color-unfitted-level-0);\n",
              "  border: .5pt solid var(--sklearn-color-unfitted-level-3);\n",
              "}\n",
              "\n",
              ".sk-estimator-doc-link.fitted span {\n",
              "  /* fitted */\n",
              "  background: var(--sklearn-color-fitted-level-0);\n",
              "  border: var(--sklearn-color-fitted-level-3);\n",
              "}\n",
              "\n",
              ".sk-estimator-doc-link:hover span {\n",
              "  display: block;\n",
              "}\n",
              "\n",
              "/* \"?\"-specific style due to the `<a>` HTML tag */\n",
              "\n",
              "#sk-container-id-2 a.estimator_doc_link {\n",
              "  float: right;\n",
              "  font-size: 1rem;\n",
              "  line-height: 1em;\n",
              "  font-family: monospace;\n",
              "  background-color: var(--sklearn-color-background);\n",
              "  border-radius: 1rem;\n",
              "  height: 1rem;\n",
              "  width: 1rem;\n",
              "  text-decoration: none;\n",
              "  /* unfitted */\n",
              "  color: var(--sklearn-color-unfitted-level-1);\n",
              "  border: var(--sklearn-color-unfitted-level-1) 1pt solid;\n",
              "}\n",
              "\n",
              "#sk-container-id-2 a.estimator_doc_link.fitted {\n",
              "  /* fitted */\n",
              "  border: var(--sklearn-color-fitted-level-1) 1pt solid;\n",
              "  color: var(--sklearn-color-fitted-level-1);\n",
              "}\n",
              "\n",
              "/* On hover */\n",
              "#sk-container-id-2 a.estimator_doc_link:hover {\n",
              "  /* unfitted */\n",
              "  background-color: var(--sklearn-color-unfitted-level-3);\n",
              "  color: var(--sklearn-color-background);\n",
              "  text-decoration: none;\n",
              "}\n",
              "\n",
              "#sk-container-id-2 a.estimator_doc_link.fitted:hover {\n",
              "  /* fitted */\n",
              "  background-color: var(--sklearn-color-fitted-level-3);\n",
              "}\n",
              "</style><div id=\"sk-container-id-2\" class=\"sk-top-container\"><div class=\"sk-text-repr-fallback\"><pre>RandomForestClassifier(random_state=42)</pre><b>In a Jupyter environment, please rerun this cell to show the HTML representation or trust the notebook. <br />On GitHub, the HTML representation is unable to render, please try loading this page with nbviewer.org.</b></div><div class=\"sk-container\" hidden><div class=\"sk-item\"><div class=\"sk-estimator fitted sk-toggleable\"><input class=\"sk-toggleable__control sk-hidden--visually\" id=\"sk-estimator-id-2\" type=\"checkbox\" checked><label for=\"sk-estimator-id-2\" class=\"sk-toggleable__label fitted sk-toggleable__label-arrow\"><div><div>RandomForestClassifier</div></div><div><a class=\"sk-estimator-doc-link fitted\" rel=\"noreferrer\" target=\"_blank\" href=\"https://scikit-learn.org/1.6/modules/generated/sklearn.ensemble.RandomForestClassifier.html\">?<span>Documentation for RandomForestClassifier</span></a><span class=\"sk-estimator-doc-link fitted\">i<span>Fitted</span></span></div></label><div class=\"sk-toggleable__content fitted\"><pre>RandomForestClassifier(random_state=42)</pre></div> </div></div></div></div>"
            ]
          },
          "metadata": {},
          "execution_count": 13
        }
      ],
      "source": [
        "execution.wait(poll_interval=1)\n",
        "model_file = execution.outputs[\"model\"]\n",
        "\n",
        "with open(model_file.file, \"rb\") as f:\n",
        "    model = joblib.load(f)\n",
        "\n",
        "print(f\"md5hash: {model_file.md5hash}\")\n",
        "model"
      ]
    },
    {
      "cell_type": "markdown",
      "metadata": {
        "id": "Nm4K-eOeAGav"
      },
      "source": [
        "Create a secure batch prediction workflow:"
      ]
    },
    {
      "cell_type": "code",
      "execution_count": 14,
      "metadata": {
        "id": "OU_ZYRauAGav"
      },
      "outputs": [],
      "source": [
        "@union.task(container_image=image)\n",
        "def model_guard(model: FlyteFile, md5hash: str) -> Model:\n",
        "    return Model(file=model, md5hash=md5hash)\n",
        "\n",
        "\n",
        "@union.task(container_image=image)\n",
        "def secure_batch_predict(model: Model, data: pd.DataFrame) -> Predictions:\n",
        "    with open(model.file, \"rb\") as f:\n",
        "        model = joblib.load(f)\n",
        "    return Predictions([float(x) for x in model.predict(data)])\n",
        "\n",
        "\n",
        "@union.workflow\n",
        "def secure_batch_prediction_workflow(\n",
        "    model: FlyteFile,\n",
        "    md5hash: str,\n",
        "    data: pd.DataFrame\n",
        ") -> Predictions:\n",
        "    checked_model = model_guard(model, md5hash)\n",
        "    return secure_batch_predict(checked_model, data)"
      ]
    },
    {
      "cell_type": "markdown",
      "metadata": {
        "id": "BkgwDbw1AGav"
      },
      "source": [
        "Generate predictions with the correct model"
      ]
    },
    {
      "cell_type": "code",
      "execution_count": 15,
      "metadata": {
        "colab": {
          "base_uri": "https://localhost:8080/",
          "height": 52
        },
        "id": "z33JFZ-8AGav",
        "outputId": "dc6596e3-6b97-4c9b-f279-cbbf2173d689"
      },
      "outputs": [
        {
          "output_type": "execute_result",
          "data": {
            "text/plain": [
              "Flyte Serialized object (FlyteWorkflowExecution):\n",
              "  id:\n",
              "    project: default\n",
              "    domain: development\n",
              "    name: a7pw62kcw47d2k8hvnzz\n",
              "  spec:\n",
              "    launch_plan:\n",
              "      resource_type: 3\n",
              "      project: default\n",
              "      domain: development\n",
              "      name: secure_batch_prediction_workflow\n",
              "      version: nAV3y_SpX79wKTrnLyVqIw\n",
              "    metadata:\n",
              "      principal: 00uh8ip848eXOG2cq5d7\n",
              "  closure:\n",
              "    created_at:\n",
              "      seconds: 1739898992\n",
              "      nanos: 119290000\n",
              "    updated_at:\n",
              "      seconds: 1739898992\n",
              "      nanos: 119290000"
            ],
            "text/html": [
              "<b>Execution is in-progress. </b> <a href='https://serverless.union.ai/org/davidmirror-ops/projects/default/domains/development/executions/a7pw62kcw47d2k8hvnzz'>https://serverless.union.ai/org/davidmirror-ops/projects/default/domains/development/executions/a7pw62kcw47d2k8hvnzz</a>"
            ]
          },
          "metadata": {},
          "execution_count": 15
        }
      ],
      "source": [
        "execution = serverless.execute(\n",
        "    secure_batch_prediction_workflow,\n",
        "    inputs={\n",
        "        \"model\": model_file.file,\n",
        "        \"md5hash\": model_file.md5hash,\n",
        "        \"data\": features\n",
        "    }\n",
        ")\n",
        "execution"
      ]
    },
    {
      "cell_type": "code",
      "execution_count": 16,
      "metadata": {
        "colab": {
          "base_uri": "https://localhost:8080/"
        },
        "id": "-Vp9FHcaAGav",
        "outputId": "6a10e3ac-439f-4a81-a904-ddecd4554596"
      },
      "outputs": [
        {
          "output_type": "execute_result",
          "data": {
            "text/plain": [
              "[0.0, 0.0, 0.0, 0.0, 0.0]"
            ]
          },
          "metadata": {},
          "execution_count": 16
        }
      ],
      "source": [
        "execution.wait(poll_interval=1)\n",
        "predictions = execution.outputs[\"predictions\"]\n",
        "predictions[:5]"
      ]
    },
    {
      "cell_type": "markdown",
      "metadata": {
        "id": "UM41i44vAGav"
      },
      "source": [
        "Call the secure batch prediction workflow with the fake model"
      ]
    },
    {
      "cell_type": "code",
      "execution_count": 19,
      "metadata": {
        "colab": {
          "base_uri": "https://localhost:8080/",
          "height": 52
        },
        "id": "il5_TlLBAGav",
        "outputId": "16d82cde-6c3c-47d0-f9b5-2ff7206b27d7"
      },
      "outputs": [
        {
          "output_type": "execute_result",
          "data": {
            "text/plain": [
              "Flyte Serialized object (FlyteWorkflowExecution):\n",
              "  id:\n",
              "    project: default\n",
              "    domain: development\n",
              "    name: avlt75nw9c4cn22jmqt8\n",
              "  spec:\n",
              "    launch_plan:\n",
              "      resource_type: 3\n",
              "      project: default\n",
              "      domain: development\n",
              "      name: secure_batch_prediction_workflow\n",
              "      version: nAV3y_SpX79wKTrnLyVqIw\n",
              "    metadata:\n",
              "      principal: 00uh8ip848eXOG2cq5d7\n",
              "  closure:\n",
              "    created_at:\n",
              "      seconds: 1739899049\n",
              "      nanos: 289257000\n",
              "    updated_at:\n",
              "      seconds: 1739899049\n",
              "      nanos: 289257000"
            ],
            "text/html": [
              "<b>Execution is in-progress. </b> <a href='https://serverless.union.ai/org/davidmirror-ops/projects/default/domains/development/executions/avlt75nw9c4cn22jmqt8'>https://serverless.union.ai/org/davidmirror-ops/projects/default/domains/development/executions/avlt75nw9c4cn22jmqt8</a>"
            ]
          },
          "metadata": {},
          "execution_count": 19
        }
      ],
      "source": [
        "execution = serverless.execute(\n",
        "    secure_batch_prediction_workflow,\n",
        "    inputs={\n",
        "        \"model\": fake_model_path,\n",
        "        \"md5hash\": model_file.md5hash,\n",
        "        \"data\": features\n",
        "    }\n",
        ")\n",
        "execution"
      ]
    },
    {
      "cell_type": "markdown",
      "source": [
        "## Part 2: ☣️ Data poisoning"
      ],
      "metadata": {
        "id": "ZtyIoZ4EVOko"
      }
    },
    {
      "cell_type": "markdown",
      "source": [
        "In this section, we'll explore how to conduct an attack that flips labels on a fraction of the raw data and how to mitigate it using Pandera to check for statistical deviations"
      ],
      "metadata": {
        "id": "ila8OveB7MKj"
      }
    },
    {
      "cell_type": "markdown",
      "source": [
        "### Login to Union Serverless\n",
        "If you haven't done so,  go to https://signup.union.ai/ to sign up for a Union account. This\n",
        "will take a few minutes, after which you should be able to go to\n",
        "https://serverless.union.ai/ to see the Union Serverless dashboard."
      ],
      "metadata": {
        "id": "qir-ZPUg8vvh"
      }
    },
    {
      "cell_type": "code",
      "source": [
        "!union create login --auth device-flow --serverless"
      ],
      "metadata": {
        "id": "-Kq7G9BM8-Rh"
      },
      "execution_count": null,
      "outputs": []
    },
    {
      "cell_type": "markdown",
      "source": [
        "\n",
        "Install local dependencies:"
      ],
      "metadata": {
        "id": "Ok10cQCU9AW5"
      }
    },
    {
      "cell_type": "code",
      "source": [
        "!pip install 'flytekit>=1.14.0' 'union==0.1.138' flytekitplugins-onnxscikitlearn flytekitplugins-pandera>=0.16.0 onnxruntime joblib openai pandas pyarrow scikit-learn numpy"
      ],
      "metadata": {
        "id": "E2TfIswO7KKK"
      },
      "execution_count": 43,
      "outputs": []
    },
    {
      "cell_type": "markdown",
      "source": [
        "Declare imports and remote dependencies:"
      ],
      "metadata": {
        "id": "4G0qLDpl9HCs"
      }
    },
    {
      "cell_type": "code",
      "source": [
        "import typing\n",
        "import union\n",
        "import flytekitplugins.pandera\n",
        "import pandas as pd\n",
        "import pandera as pa\n",
        "from flytekit import ImageSpec, task, workflow\n",
        "from pandera.typing import DataFrame, Index, Series\n",
        "from sklearn.ensemble import RandomForestClassifier\n",
        "from sklearn.metrics import accuracy_score\n",
        "from flytekit.types.file import ONNXFile\n",
        "import onnxruntime as rt\n",
        "from skl2onnx import convert_sklearn\n",
        "from skl2onnx.common.data_types import FloatTensorType\n",
        "import numpy as np\n",
        "\n",
        "\n",
        "custom_image = union.ImageSpec.from_env(\n",
        "                   name=\"data-validation-lab\",\n",
        "                   packages=[\n",
        "                       \"flytekitplugins-pandera\",\n",
        "                       \"scikit-learn\",\n",
        "                       \"pyarrow\",\n",
        "                       \"pandera\",#new dependency\n",
        "                       \"pyspark\",\n",
        "                       \"skl2onnx\",\n",
        "                       \"onnxruntime\",\n",
        "                       \"onnx\",\n",
        "                       \"numpy\",\n",
        "                    ]\n",
        "                )\n",
        "\n"
      ],
      "metadata": {
        "id": "a6lqS69aVnGZ"
      },
      "execution_count": 48,
      "outputs": []
    },
    {
      "cell_type": "markdown",
      "source": [
        "### Specify statistical properties of the dataset"
      ],
      "metadata": {
        "id": "ASRKOC4S93Xq"
      }
    },
    {
      "cell_type": "code",
      "source": [
        "#---Encode the statistical properties of the data into a Pandera schema---#\n",
        "\n",
        "class RawData(pa.DataFrameModel):\n",
        "    age: Series[int] = pa.Field(in_range={\"min_value\": 0, \"max_value\": 200})\n",
        "    sex: Series[int] = pa.Field(isin=[0, 1])\n",
        "    cp: Series[int] = pa.Field(\n",
        "        isin=[\n",
        "            1,  # typical angina\n",
        "            2,  # atypical angina\n",
        "            3,  # non-anginal pain\n",
        "            4,  # asymptomatic\n",
        "        ]\n",
        "    )\n",
        "    trestbps: Series[int] = pa.Field(in_range={\"min_value\": 0, \"max_value\": 200})\n",
        "    chol: Series[int] = pa.Field(in_range={\"min_value\": 0, \"max_value\": 600})\n",
        "    fbs: Series[int] = pa.Field(isin=[0, 1])\n",
        "    restecg: Series[int] = pa.Field(\n",
        "        isin=[\n",
        "            0,  # normal\n",
        "            1,  # having ST-T wave abnormality\n",
        "            2,  # showing probable or definite left ventricular hypertrophy by Estes' criteria\n",
        "        ]\n",
        "    )\n",
        "    thalach: Series[int] = pa.Field(in_range={\"min_value\": 0, \"max_value\": 300})\n",
        "    exang: Series[int] = pa.Field(isin=[0, 1])\n",
        "    oldpeak: Series[float] = pa.Field(in_range={\"min_value\": 0, \"max_value\": 10})\n",
        "    slope: Series[int] = pa.Field(\n",
        "        isin=[\n",
        "            1,  # upsloping\n",
        "            2,  # flat\n",
        "            3,  # downsloping\n",
        "        ]\n",
        "    )\n",
        "    ca: Series[int] = pa.Field(isin=[0, 1, 2, 3])\n",
        "    thal: Series[int] = pa.Field(\n",
        "        isin=[\n",
        "            3,  # normal\n",
        "            6,  # fixed defect\n",
        "            7,  # reversible defect\n",
        "        ]\n",
        "    )\n",
        "    target: Series[int] = pa.Field(ge=0, le=4)\n",
        "\n",
        "    class Config:\n",
        "        coerce = True\n"
      ],
      "metadata": {
        "id": "c1iGmWg693vm"
      },
      "execution_count": 44,
      "outputs": []
    },
    {
      "cell_type": "markdown",
      "source": [
        "Fetch the dataset:"
      ],
      "metadata": {
        "id": "iAnB55ouZmaC"
      }
    },
    {
      "cell_type": "code",
      "source": [
        "@union.task(container_image=custom_image)\n",
        "def fetch_raw_data() -> DataFrame[RawData]:\n",
        "    print(\"fetching raw data\")\n",
        "    data_url = \"https://archive.ics.uci.edu/ml/machine-learning-databases/heart-disease/processed.cleveland.data\"\n",
        "    return (\n",
        "        pd.read_csv(data_url, header=None, names=RawData.to_schema().columns.keys())\n",
        "        .replace({\"ca\": {\"?\": None}, \"thal\": {\"?\": None}})\n",
        "        .dropna(subset=[\"ca\", \"thal\"])\n",
        "        .astype({\"ca\": float, \"thal\": float})\n",
        "    )\n",
        "data = fetch_raw_data()\n",
        "data.head()"
      ],
      "metadata": {
        "id": "1O5MDnzGbW5d",
        "colab": {
          "base_uri": "https://localhost:8080/",
          "height": 292
        },
        "outputId": "b533cfd2-2bc4-4ba2-e714-22312329d19b"
      },
      "execution_count": 45,
      "outputs": [
        {
          "output_type": "stream",
          "name": "stdout",
          "text": [
            "fetching raw data\n"
          ]
        },
        {
          "output_type": "display_data",
          "data": {
            "text/plain": [
              "\u001b[2;36m15:38:19.226372\u001b[0m\u001b[2;36m \u001b[0m\u001b[33mWARNING \u001b[0m deck.py:\u001b[1;36m91\u001b[0m - Attempted to call \u001b[1;35mpublish\u001b[0m\u001b[1m(\u001b[0m\u001b[1m)\u001b[0m in task       \n",
              "\u001b[2;36m                \u001b[0m         \u001b[32m'local'\u001b[0m, but Flyte decks will not be generated because \n",
              "\u001b[2;36m                \u001b[0m         enable_deck is currently set to \u001b[3;91mFalse\u001b[0m.                 \n"
            ],
            "text/html": [
              "<pre style=\"white-space:pre;overflow-x:auto;line-height:normal;font-family:Menlo,'DejaVu Sans Mono',consolas,'Courier New',monospace\"><span style=\"color: #7fbfbf; text-decoration-color: #7fbfbf\">15:38:19.226372 </span><span style=\"color: #808000; text-decoration-color: #808000\">WARNING </span> deck.py:<span style=\"color: #008080; text-decoration-color: #008080; font-weight: bold\">91</span> - Attempted to call <span style=\"color: #800080; text-decoration-color: #800080; font-weight: bold\">publish</span><span style=\"font-weight: bold\">()</span> in task       \n",
              "<span style=\"color: #7fbfbf; text-decoration-color: #7fbfbf\">                </span>         <span style=\"color: #008000; text-decoration-color: #008000\">'local'</span>, but Flyte decks will not be generated because \n",
              "<span style=\"color: #7fbfbf; text-decoration-color: #7fbfbf\">                </span>         enable_deck is currently set to <span style=\"color: #ff0000; text-decoration-color: #ff0000; font-style: italic\">False</span>.                 \n",
              "</pre>\n"
            ]
          },
          "metadata": {}
        },
        {
          "output_type": "execute_result",
          "data": {
            "text/plain": [
              "   age  sex  cp  trestbps  chol  fbs  restecg  thalach  exang  oldpeak  slope  \\\n",
              "0   63    1   1       145   233    1        2      150      0      2.3      3   \n",
              "1   67    1   4       160   286    0        2      108      1      1.5      2   \n",
              "2   67    1   4       120   229    0        2      129      1      2.6      2   \n",
              "3   37    1   3       130   250    0        0      187      0      3.5      3   \n",
              "4   41    0   2       130   204    0        2      172      0      1.4      1   \n",
              "\n",
              "   ca  thal  target  \n",
              "0   0     6       0  \n",
              "1   3     3       2  \n",
              "2   2     7       1  \n",
              "3   0     3       0  \n",
              "4   0     3       0  "
            ],
            "text/html": [
              "\n",
              "  <div id=\"df-c5b42b4d-6278-41ee-a518-97ab145ca872\" class=\"colab-df-container\">\n",
              "    <div>\n",
              "<style scoped>\n",
              "    .dataframe tbody tr th:only-of-type {\n",
              "        vertical-align: middle;\n",
              "    }\n",
              "\n",
              "    .dataframe tbody tr th {\n",
              "        vertical-align: top;\n",
              "    }\n",
              "\n",
              "    .dataframe thead th {\n",
              "        text-align: right;\n",
              "    }\n",
              "</style>\n",
              "<table border=\"1\" class=\"dataframe\">\n",
              "  <thead>\n",
              "    <tr style=\"text-align: right;\">\n",
              "      <th></th>\n",
              "      <th>age</th>\n",
              "      <th>sex</th>\n",
              "      <th>cp</th>\n",
              "      <th>trestbps</th>\n",
              "      <th>chol</th>\n",
              "      <th>fbs</th>\n",
              "      <th>restecg</th>\n",
              "      <th>thalach</th>\n",
              "      <th>exang</th>\n",
              "      <th>oldpeak</th>\n",
              "      <th>slope</th>\n",
              "      <th>ca</th>\n",
              "      <th>thal</th>\n",
              "      <th>target</th>\n",
              "    </tr>\n",
              "  </thead>\n",
              "  <tbody>\n",
              "    <tr>\n",
              "      <th>0</th>\n",
              "      <td>63</td>\n",
              "      <td>1</td>\n",
              "      <td>1</td>\n",
              "      <td>145</td>\n",
              "      <td>233</td>\n",
              "      <td>1</td>\n",
              "      <td>2</td>\n",
              "      <td>150</td>\n",
              "      <td>0</td>\n",
              "      <td>2.3</td>\n",
              "      <td>3</td>\n",
              "      <td>0</td>\n",
              "      <td>6</td>\n",
              "      <td>0</td>\n",
              "    </tr>\n",
              "    <tr>\n",
              "      <th>1</th>\n",
              "      <td>67</td>\n",
              "      <td>1</td>\n",
              "      <td>4</td>\n",
              "      <td>160</td>\n",
              "      <td>286</td>\n",
              "      <td>0</td>\n",
              "      <td>2</td>\n",
              "      <td>108</td>\n",
              "      <td>1</td>\n",
              "      <td>1.5</td>\n",
              "      <td>2</td>\n",
              "      <td>3</td>\n",
              "      <td>3</td>\n",
              "      <td>2</td>\n",
              "    </tr>\n",
              "    <tr>\n",
              "      <th>2</th>\n",
              "      <td>67</td>\n",
              "      <td>1</td>\n",
              "      <td>4</td>\n",
              "      <td>120</td>\n",
              "      <td>229</td>\n",
              "      <td>0</td>\n",
              "      <td>2</td>\n",
              "      <td>129</td>\n",
              "      <td>1</td>\n",
              "      <td>2.6</td>\n",
              "      <td>2</td>\n",
              "      <td>2</td>\n",
              "      <td>7</td>\n",
              "      <td>1</td>\n",
              "    </tr>\n",
              "    <tr>\n",
              "      <th>3</th>\n",
              "      <td>37</td>\n",
              "      <td>1</td>\n",
              "      <td>3</td>\n",
              "      <td>130</td>\n",
              "      <td>250</td>\n",
              "      <td>0</td>\n",
              "      <td>0</td>\n",
              "      <td>187</td>\n",
              "      <td>0</td>\n",
              "      <td>3.5</td>\n",
              "      <td>3</td>\n",
              "      <td>0</td>\n",
              "      <td>3</td>\n",
              "      <td>0</td>\n",
              "    </tr>\n",
              "    <tr>\n",
              "      <th>4</th>\n",
              "      <td>41</td>\n",
              "      <td>0</td>\n",
              "      <td>2</td>\n",
              "      <td>130</td>\n",
              "      <td>204</td>\n",
              "      <td>0</td>\n",
              "      <td>2</td>\n",
              "      <td>172</td>\n",
              "      <td>0</td>\n",
              "      <td>1.4</td>\n",
              "      <td>1</td>\n",
              "      <td>0</td>\n",
              "      <td>3</td>\n",
              "      <td>0</td>\n",
              "    </tr>\n",
              "  </tbody>\n",
              "</table>\n",
              "</div>\n",
              "    <div class=\"colab-df-buttons\">\n",
              "\n",
              "  <div class=\"colab-df-container\">\n",
              "    <button class=\"colab-df-convert\" onclick=\"convertToInteractive('df-c5b42b4d-6278-41ee-a518-97ab145ca872')\"\n",
              "            title=\"Convert this dataframe to an interactive table.\"\n",
              "            style=\"display:none;\">\n",
              "\n",
              "  <svg xmlns=\"http://www.w3.org/2000/svg\" height=\"24px\" viewBox=\"0 -960 960 960\">\n",
              "    <path d=\"M120-120v-720h720v720H120Zm60-500h600v-160H180v160Zm220 220h160v-160H400v160Zm0 220h160v-160H400v160ZM180-400h160v-160H180v160Zm440 0h160v-160H620v160ZM180-180h160v-160H180v160Zm440 0h160v-160H620v160Z\"/>\n",
              "  </svg>\n",
              "    </button>\n",
              "\n",
              "  <style>\n",
              "    .colab-df-container {\n",
              "      display:flex;\n",
              "      gap: 12px;\n",
              "    }\n",
              "\n",
              "    .colab-df-convert {\n",
              "      background-color: #E8F0FE;\n",
              "      border: none;\n",
              "      border-radius: 50%;\n",
              "      cursor: pointer;\n",
              "      display: none;\n",
              "      fill: #1967D2;\n",
              "      height: 32px;\n",
              "      padding: 0 0 0 0;\n",
              "      width: 32px;\n",
              "    }\n",
              "\n",
              "    .colab-df-convert:hover {\n",
              "      background-color: #E2EBFA;\n",
              "      box-shadow: 0px 1px 2px rgba(60, 64, 67, 0.3), 0px 1px 3px 1px rgba(60, 64, 67, 0.15);\n",
              "      fill: #174EA6;\n",
              "    }\n",
              "\n",
              "    .colab-df-buttons div {\n",
              "      margin-bottom: 4px;\n",
              "    }\n",
              "\n",
              "    [theme=dark] .colab-df-convert {\n",
              "      background-color: #3B4455;\n",
              "      fill: #D2E3FC;\n",
              "    }\n",
              "\n",
              "    [theme=dark] .colab-df-convert:hover {\n",
              "      background-color: #434B5C;\n",
              "      box-shadow: 0px 1px 3px 1px rgba(0, 0, 0, 0.15);\n",
              "      filter: drop-shadow(0px 1px 2px rgba(0, 0, 0, 0.3));\n",
              "      fill: #FFFFFF;\n",
              "    }\n",
              "  </style>\n",
              "\n",
              "    <script>\n",
              "      const buttonEl =\n",
              "        document.querySelector('#df-c5b42b4d-6278-41ee-a518-97ab145ca872 button.colab-df-convert');\n",
              "      buttonEl.style.display =\n",
              "        google.colab.kernel.accessAllowed ? 'block' : 'none';\n",
              "\n",
              "      async function convertToInteractive(key) {\n",
              "        const element = document.querySelector('#df-c5b42b4d-6278-41ee-a518-97ab145ca872');\n",
              "        const dataTable =\n",
              "          await google.colab.kernel.invokeFunction('convertToInteractive',\n",
              "                                                    [key], {});\n",
              "        if (!dataTable) return;\n",
              "\n",
              "        const docLinkHtml = 'Like what you see? Visit the ' +\n",
              "          '<a target=\"_blank\" href=https://colab.research.google.com/notebooks/data_table.ipynb>data table notebook</a>'\n",
              "          + ' to learn more about interactive tables.';\n",
              "        element.innerHTML = '';\n",
              "        dataTable['output_type'] = 'display_data';\n",
              "        await google.colab.output.renderOutput(dataTable, element);\n",
              "        const docLink = document.createElement('div');\n",
              "        docLink.innerHTML = docLinkHtml;\n",
              "        element.appendChild(docLink);\n",
              "      }\n",
              "    </script>\n",
              "  </div>\n",
              "\n",
              "\n",
              "<div id=\"df-1bdcf1b2-a572-4962-a3c4-7b64f059b9a6\">\n",
              "  <button class=\"colab-df-quickchart\" onclick=\"quickchart('df-1bdcf1b2-a572-4962-a3c4-7b64f059b9a6')\"\n",
              "            title=\"Suggest charts\"\n",
              "            style=\"display:none;\">\n",
              "\n",
              "<svg xmlns=\"http://www.w3.org/2000/svg\" height=\"24px\"viewBox=\"0 0 24 24\"\n",
              "     width=\"24px\">\n",
              "    <g>\n",
              "        <path d=\"M19 3H5c-1.1 0-2 .9-2 2v14c0 1.1.9 2 2 2h14c1.1 0 2-.9 2-2V5c0-1.1-.9-2-2-2zM9 17H7v-7h2v7zm4 0h-2V7h2v10zm4 0h-2v-4h2v4z\"/>\n",
              "    </g>\n",
              "</svg>\n",
              "  </button>\n",
              "\n",
              "<style>\n",
              "  .colab-df-quickchart {\n",
              "      --bg-color: #E8F0FE;\n",
              "      --fill-color: #1967D2;\n",
              "      --hover-bg-color: #E2EBFA;\n",
              "      --hover-fill-color: #174EA6;\n",
              "      --disabled-fill-color: #AAA;\n",
              "      --disabled-bg-color: #DDD;\n",
              "  }\n",
              "\n",
              "  [theme=dark] .colab-df-quickchart {\n",
              "      --bg-color: #3B4455;\n",
              "      --fill-color: #D2E3FC;\n",
              "      --hover-bg-color: #434B5C;\n",
              "      --hover-fill-color: #FFFFFF;\n",
              "      --disabled-bg-color: #3B4455;\n",
              "      --disabled-fill-color: #666;\n",
              "  }\n",
              "\n",
              "  .colab-df-quickchart {\n",
              "    background-color: var(--bg-color);\n",
              "    border: none;\n",
              "    border-radius: 50%;\n",
              "    cursor: pointer;\n",
              "    display: none;\n",
              "    fill: var(--fill-color);\n",
              "    height: 32px;\n",
              "    padding: 0;\n",
              "    width: 32px;\n",
              "  }\n",
              "\n",
              "  .colab-df-quickchart:hover {\n",
              "    background-color: var(--hover-bg-color);\n",
              "    box-shadow: 0 1px 2px rgba(60, 64, 67, 0.3), 0 1px 3px 1px rgba(60, 64, 67, 0.15);\n",
              "    fill: var(--button-hover-fill-color);\n",
              "  }\n",
              "\n",
              "  .colab-df-quickchart-complete:disabled,\n",
              "  .colab-df-quickchart-complete:disabled:hover {\n",
              "    background-color: var(--disabled-bg-color);\n",
              "    fill: var(--disabled-fill-color);\n",
              "    box-shadow: none;\n",
              "  }\n",
              "\n",
              "  .colab-df-spinner {\n",
              "    border: 2px solid var(--fill-color);\n",
              "    border-color: transparent;\n",
              "    border-bottom-color: var(--fill-color);\n",
              "    animation:\n",
              "      spin 1s steps(1) infinite;\n",
              "  }\n",
              "\n",
              "  @keyframes spin {\n",
              "    0% {\n",
              "      border-color: transparent;\n",
              "      border-bottom-color: var(--fill-color);\n",
              "      border-left-color: var(--fill-color);\n",
              "    }\n",
              "    20% {\n",
              "      border-color: transparent;\n",
              "      border-left-color: var(--fill-color);\n",
              "      border-top-color: var(--fill-color);\n",
              "    }\n",
              "    30% {\n",
              "      border-color: transparent;\n",
              "      border-left-color: var(--fill-color);\n",
              "      border-top-color: var(--fill-color);\n",
              "      border-right-color: var(--fill-color);\n",
              "    }\n",
              "    40% {\n",
              "      border-color: transparent;\n",
              "      border-right-color: var(--fill-color);\n",
              "      border-top-color: var(--fill-color);\n",
              "    }\n",
              "    60% {\n",
              "      border-color: transparent;\n",
              "      border-right-color: var(--fill-color);\n",
              "    }\n",
              "    80% {\n",
              "      border-color: transparent;\n",
              "      border-right-color: var(--fill-color);\n",
              "      border-bottom-color: var(--fill-color);\n",
              "    }\n",
              "    90% {\n",
              "      border-color: transparent;\n",
              "      border-bottom-color: var(--fill-color);\n",
              "    }\n",
              "  }\n",
              "</style>\n",
              "\n",
              "  <script>\n",
              "    async function quickchart(key) {\n",
              "      const quickchartButtonEl =\n",
              "        document.querySelector('#' + key + ' button');\n",
              "      quickchartButtonEl.disabled = true;  // To prevent multiple clicks.\n",
              "      quickchartButtonEl.classList.add('colab-df-spinner');\n",
              "      try {\n",
              "        const charts = await google.colab.kernel.invokeFunction(\n",
              "            'suggestCharts', [key], {});\n",
              "      } catch (error) {\n",
              "        console.error('Error during call to suggestCharts:', error);\n",
              "      }\n",
              "      quickchartButtonEl.classList.remove('colab-df-spinner');\n",
              "      quickchartButtonEl.classList.add('colab-df-quickchart-complete');\n",
              "    }\n",
              "    (() => {\n",
              "      let quickchartButtonEl =\n",
              "        document.querySelector('#df-1bdcf1b2-a572-4962-a3c4-7b64f059b9a6 button');\n",
              "      quickchartButtonEl.style.display =\n",
              "        google.colab.kernel.accessAllowed ? 'block' : 'none';\n",
              "    })();\n",
              "  </script>\n",
              "</div>\n",
              "\n",
              "    </div>\n",
              "  </div>\n"
            ],
            "application/vnd.google.colaboratory.intrinsic+json": {
              "type": "dataframe",
              "variable_name": "data",
              "summary": "{\n  \"name\": \"data\",\n  \"rows\": 297,\n  \"fields\": [\n    {\n      \"column\": \"age\",\n      \"properties\": {\n        \"dtype\": \"number\",\n        \"std\": 9,\n        \"min\": 29,\n        \"max\": 77,\n        \"num_unique_values\": 41,\n        \"samples\": [\n          61,\n          64,\n          44\n        ],\n        \"semantic_type\": \"\",\n        \"description\": \"\"\n      }\n    },\n    {\n      \"column\": \"sex\",\n      \"properties\": {\n        \"dtype\": \"number\",\n        \"std\": 0,\n        \"min\": 0,\n        \"max\": 1,\n        \"num_unique_values\": 2,\n        \"samples\": [\n          0,\n          1\n        ],\n        \"semantic_type\": \"\",\n        \"description\": \"\"\n      }\n    },\n    {\n      \"column\": \"cp\",\n      \"properties\": {\n        \"dtype\": \"number\",\n        \"std\": 0,\n        \"min\": 1,\n        \"max\": 4,\n        \"num_unique_values\": 4,\n        \"samples\": [\n          4,\n          2\n        ],\n        \"semantic_type\": \"\",\n        \"description\": \"\"\n      }\n    },\n    {\n      \"column\": \"trestbps\",\n      \"properties\": {\n        \"dtype\": \"number\",\n        \"std\": 17,\n        \"min\": 94,\n        \"max\": 200,\n        \"num_unique_values\": 50,\n        \"samples\": [\n          124,\n          192\n        ],\n        \"semantic_type\": \"\",\n        \"description\": \"\"\n      }\n    },\n    {\n      \"column\": \"chol\",\n      \"properties\": {\n        \"dtype\": \"number\",\n        \"std\": 51,\n        \"min\": 126,\n        \"max\": 564,\n        \"num_unique_values\": 152,\n        \"samples\": [\n          321,\n          187\n        ],\n        \"semantic_type\": \"\",\n        \"description\": \"\"\n      }\n    },\n    {\n      \"column\": \"fbs\",\n      \"properties\": {\n        \"dtype\": \"number\",\n        \"std\": 0,\n        \"min\": 0,\n        \"max\": 1,\n        \"num_unique_values\": 2,\n        \"samples\": [\n          0,\n          1\n        ],\n        \"semantic_type\": \"\",\n        \"description\": \"\"\n      }\n    },\n    {\n      \"column\": \"restecg\",\n      \"properties\": {\n        \"dtype\": \"number\",\n        \"std\": 0,\n        \"min\": 0,\n        \"max\": 2,\n        \"num_unique_values\": 3,\n        \"samples\": [\n          2,\n          0\n        ],\n        \"semantic_type\": \"\",\n        \"description\": \"\"\n      }\n    },\n    {\n      \"column\": \"thalach\",\n      \"properties\": {\n        \"dtype\": \"number\",\n        \"std\": 22,\n        \"min\": 71,\n        \"max\": 202,\n        \"num_unique_values\": 91,\n        \"samples\": [\n          170,\n          114\n        ],\n        \"semantic_type\": \"\",\n        \"description\": \"\"\n      }\n    },\n    {\n      \"column\": \"exang\",\n      \"properties\": {\n        \"dtype\": \"number\",\n        \"std\": 0,\n        \"min\": 0,\n        \"max\": 1,\n        \"num_unique_values\": 2,\n        \"samples\": [\n          1,\n          0\n        ],\n        \"semantic_type\": \"\",\n        \"description\": \"\"\n      }\n    },\n    {\n      \"column\": \"oldpeak\",\n      \"properties\": {\n        \"dtype\": \"number\",\n        \"std\": 1.1661227818468953,\n        \"min\": 0.0,\n        \"max\": 6.2,\n        \"num_unique_values\": 40,\n        \"samples\": [\n          2.4,\n          0.2\n        ],\n        \"semantic_type\": \"\",\n        \"description\": \"\"\n      }\n    },\n    {\n      \"column\": \"slope\",\n      \"properties\": {\n        \"dtype\": \"number\",\n        \"std\": 0,\n        \"min\": 1,\n        \"max\": 3,\n        \"num_unique_values\": 3,\n        \"samples\": [\n          3,\n          2\n        ],\n        \"semantic_type\": \"\",\n        \"description\": \"\"\n      }\n    },\n    {\n      \"column\": \"ca\",\n      \"properties\": {\n        \"dtype\": \"number\",\n        \"std\": 0,\n        \"min\": 0,\n        \"max\": 3,\n        \"num_unique_values\": 4,\n        \"samples\": [\n          3,\n          1\n        ],\n        \"semantic_type\": \"\",\n        \"description\": \"\"\n      }\n    },\n    {\n      \"column\": \"thal\",\n      \"properties\": {\n        \"dtype\": \"number\",\n        \"std\": 1,\n        \"min\": 3,\n        \"max\": 7,\n        \"num_unique_values\": 3,\n        \"samples\": [\n          6,\n          3\n        ],\n        \"semantic_type\": \"\",\n        \"description\": \"\"\n      }\n    },\n    {\n      \"column\": \"target\",\n      \"properties\": {\n        \"dtype\": \"number\",\n        \"std\": 1,\n        \"min\": 0,\n        \"max\": 4,\n        \"num_unique_values\": 5,\n        \"samples\": [\n          2,\n          4\n        ],\n        \"semantic_type\": \"\",\n        \"description\": \"\"\n      }\n    }\n  ]\n}"
            }
          },
          "metadata": {},
          "execution_count": 45
        }
      ]
    },
    {
      "cell_type": "markdown",
      "source": [
        "Parsing the raw data:\n",
        "\n",
        "Converts the `target` column to a binary Series where `1` indicates the presence of heart disease (original values > 0) and `0` represents no heart disease. This collapses the multi-class UCI labels into a binary classification task.\""
      ],
      "metadata": {
        "id": "IYWnKRcpblHw"
      }
    },
    {
      "cell_type": "code",
      "source": [
        "class ParsedData(RawData):\n",
        "    target: Series[int] = pa.Field(isin=[0, 1])\n",
        "\n",
        "@union.task(container_image=custom_image)\n",
        "def parse_raw_data(raw_data: DataFrame[RawData]) -> DataFrame[ParsedData]:\n",
        "    return raw_data.assign(target=lambda _: (_.target > 0).astype(int))"
      ],
      "metadata": {
        "id": "lvj3Gv0sbpiP"
      },
      "execution_count": 30,
      "outputs": []
    },
    {
      "cell_type": "markdown",
      "source": [
        "### Register custom Pandera checks to detect statistical deviations:"
      ],
      "metadata": {
        "id": "_SUKpYzUDLJj"
      }
    },
    {
      "cell_type": "code",
      "source": [
        "#---Check fundamental medical relationships between features and target---#\n",
        "class TrainingData(ParsedData):\n",
        "    @pa.dataframe_check(error=\"Patients with heart disease should have higher average cholesterol\")\n",
        "    def validate_cholesterol(cls, df: pd.DataFrame) -> bool:\n",
        "        healthy_chol = df[df.target == 0].chol.mean()\n",
        "        disease_chol = df[df.target == 1].chol.mean()\n",
        "        return disease_chol > healthy_chol\n",
        "\n",
        "    @pa.dataframe_check(error=\"Patients with heart disease should not have lower max heart rate (thalach) on average\")\n",
        "    def validate_max_heart_rate(cls, df: pd.DataFrame) -> bool:\n",
        "        healthy_thalach = df[df.target == 0].thalach.mean()\n",
        "        disease_thalach = df[df.target == 1].thalach.mean()\n",
        "        return disease_thalach < healthy_thalach\n",
        "\n",
        "    @pa.dataframe_check(error=\"Exercise-induced angina is not more common in disease group\")\n",
        "    def validate_exercise_induced_angina(cls, df: pd.DataFrame) -> bool:\n",
        "        exang_ratio = df[df.target == 1].exang.mean() / df[df.target == 0].exang.mean()\n",
        "        return exang_ratio > 2.0\n",
        "\n",
        "    @pa.dataframe_check\n",
        "    def validate_feature_correlations(cls, df: pd.DataFrame) -> bool:\n",
        "        \"\"\"Ensure key feature correlations with target remain strong\"\"\"\n",
        "        corrs = df.corr()['target'].abs()\n",
        "        return all(corrs[['cp', 'exang', 'oldpeak']] > 0.3)  # These should be strongly correlated"
      ],
      "metadata": {
        "id": "xBFX951pDP9u"
      },
      "execution_count": 31,
      "outputs": []
    },
    {
      "cell_type": "markdown",
      "source": [
        "### Data poisoning attack\n",
        "If `poison_fraction > 0` it picks a random subset of size `len(poisoned) * poison_fraction` and flips the target labels from `1` to `0`, misguiding the model to classify a patient with the disease as healthy."
      ],
      "metadata": {
        "id": "uQO0vHbWbxsq"
      }
    },
    {
      "cell_type": "code",
      "source": [
        "@union.task(container_image=custom_image)\n",
        "def poison_training_data(\n",
        "    training_set: DataFrame[ParsedData],\n",
        "    poison_fraction: float,\n",
        "    random_state: int\n",
        ") -> DataFrame[TrainingData]:\n",
        "    if poison_fraction <= 0:\n",
        "        return training_set\n",
        "    print(\"POISONING DATA\")\n",
        "    poisoned = training_set.copy()\n",
        "    n_poison = int(len(poisoned) * poison_fraction)\n",
        "    poisoned_indices = poisoned.sample(n=n_poison, random_state=random_state).index\n",
        "    poisoned.loc[poisoned_indices, 'target'] = 1 - poisoned.loc[poisoned_indices, 'target']\n",
        "    return poisoned"
      ],
      "metadata": {
        "id": "shNxaqeCb2nd"
      },
      "execution_count": 32,
      "outputs": []
    },
    {
      "cell_type": "markdown",
      "source": [
        "Splitting the data"
      ],
      "metadata": {
        "id": "UO-D39khbsb3"
      }
    },
    {
      "cell_type": "code",
      "source": [
        "DataSplits = typing.NamedTuple(\"DataSplits\", training_set=DataFrame[ParsedData], test_set=DataFrame[ParsedData])\n",
        "\n",
        "\n",
        "@union.task(container_image=custom_image)\n",
        "def split_data(parsed_data: DataFrame[ParsedData], test_size: float, random_state: int) -> DataSplits:\n",
        "    print(\"splitting data\")\n",
        "    training_set = parsed_data.sample(frac=test_size, random_state=random_state)\n",
        "    test_set = parsed_data[~parsed_data.index.isin(training_set.index)]\n",
        "    return training_set, test_set"
      ],
      "metadata": {
        "id": "JnU-v_Tdbszn"
      },
      "execution_count": 33,
      "outputs": []
    },
    {
      "cell_type": "markdown",
      "source": [
        "Train the model:"
      ],
      "metadata": {
        "id": "Mu5W82cbcDN5"
      }
    },
    {
      "cell_type": "code",
      "source": [
        "def get_features_and_target(dataset):\n",
        "    X = dataset[[x for x in dataset if x != \"target\"]]\n",
        "    y = dataset[\"target\"]\n",
        "    return X, y\n",
        "\n",
        "@union.task(container_image=custom_image)\n",
        "def train_model(training_set: DataFrame[TrainingData], random_state: int) -> ONNXFile:\n",
        "    # Pandera will validate TrainingData schema before execution\n",
        "    model = RandomForestClassifier(n_estimators=100, random_state=random_state)\n",
        "    X, y = get_features_and_target(training_set)\n",
        "    model.fit(X, y)\n",
        "     # Convert to ONNX format\n",
        "    initial_type = [('float_input', FloatTensorType([None, X.shape[1]]))]\n",
        "    onnx_model = convert_sklearn(model, initial_types=initial_type)\n",
        "\n",
        "    # Save ONNX model\n",
        "    model_fp = \"/tmp/model.onnx\"\n",
        "    with open(model_fp, \"wb\") as f:\n",
        "        f.write(onnx_model.SerializeToString())\n",
        "\n",
        "    return ONNXFile(path=model_fp)"
      ],
      "metadata": {
        "id": "x-wDfAmicEBt"
      },
      "execution_count": 34,
      "outputs": []
    },
    {
      "cell_type": "markdown",
      "source": [
        "Model evaluation:"
      ],
      "metadata": {
        "id": "Rl_YY8ZjcMk4"
      }
    },
    {
      "cell_type": "code",
      "source": [
        "@union.task(container_image=custom_image)\n",
        "def evaluate_model(model: ONNXFile, test_set: DataFrame[ParsedData]) -> float:\n",
        "\n",
        "    session = rt.InferenceSession(model.download())\n",
        "    input_name = session.get_inputs()[0].name\n",
        "    X, y = get_features_and_target(test_set)\n",
        "    input_data = X.values.astype(np.float32)\n",
        "\n",
        "    # Run inference\n",
        "    preds = session.run(None, {input_name: input_data})[0]\n",
        "    return accuracy_score(y, preds)"
      ],
      "metadata": {
        "id": "LUun3vemcM7F"
      },
      "execution_count": 35,
      "outputs": []
    },
    {
      "cell_type": "markdown",
      "source": [
        "### Put everything together"
      ],
      "metadata": {
        "id": "HFZYxb_rcUw9"
      }
    },
    {
      "cell_type": "code",
      "source": [
        "@union.workflow\n",
        "def pipeline(\n",
        "    data_random_state: int = 42,\n",
        "    model_random_state: int = 42,\n",
        "    poison_fraction: float = 0.0,  # Default to no poisoning\n",
        "    poison_random_state: int = 42\n",
        ") -> float:\n",
        "    raw_data = fetch_raw_data()\n",
        "    parsed_data = parse_raw_data(raw_data=raw_data)\n",
        "    poisoned_training_set = poison_training_data(\n",
        "        training_set=parsed_data,\n",
        "        poison_fraction=poison_fraction,\n",
        "        random_state=poison_random_state\n",
        "    )\n",
        "    training_set, test_set = split_data(\n",
        "        parsed_data=poisoned_training_set,\n",
        "        test_size=0.2,\n",
        "        random_state=data_random_state\n",
        "    )\n",
        "    model = train_model(\n",
        "        training_set=training_set,\n",
        "        random_state=model_random_state\n",
        "    )\n",
        "    return evaluate_model(model=model, test_set=test_set)\n"
      ],
      "metadata": {
        "id": "ajbzgALWcVWT"
      },
      "execution_count": 36,
      "outputs": []
    },
    {
      "cell_type": "markdown",
      "source": [
        "### Run the workflow locally with  poisoning\n",
        "It should fail as Pandera detects deviations induced by poisoning"
      ],
      "metadata": {
        "id": "Pw1SAi0pciUy"
      }
    },
    {
      "cell_type": "code",
      "source": [
        "pipeline(poison_random_state=4, poison_fraction=0.2)"
      ],
      "metadata": {
        "colab": {
          "base_uri": "https://localhost:8080/",
          "height": 1000
        },
        "id": "J3QH52AdRb2g",
        "outputId": "c813b5a4-fe79-4b8a-81dd-09958ab44e08"
      },
      "execution_count": 37,
      "outputs": [
        {
          "output_type": "stream",
          "name": "stdout",
          "text": [
            "fetching raw data\n"
          ]
        },
        {
          "output_type": "display_data",
          "data": {
            "text/plain": [
              "\u001b[2;36m15:30:40.986043\u001b[0m\u001b[2;36m \u001b[0m\u001b[33mWARNING \u001b[0m deck.py:\u001b[1;36m91\u001b[0m - Attempted to call \u001b[1;35mpublish\u001b[0m\u001b[1m(\u001b[0m\u001b[1m)\u001b[0m in task       \n",
              "\u001b[2;36m                \u001b[0m         \u001b[32m'local'\u001b[0m, but Flyte decks will not be generated because \n",
              "\u001b[2;36m                \u001b[0m         enable_deck is currently set to \u001b[3;91mFalse\u001b[0m.                 \n"
            ],
            "text/html": [
              "<pre style=\"white-space:pre;overflow-x:auto;line-height:normal;font-family:Menlo,'DejaVu Sans Mono',consolas,'Courier New',monospace\"><span style=\"color: #7fbfbf; text-decoration-color: #7fbfbf\">15:30:40.986043 </span><span style=\"color: #808000; text-decoration-color: #808000\">WARNING </span> deck.py:<span style=\"color: #008080; text-decoration-color: #008080; font-weight: bold\">91</span> - Attempted to call <span style=\"color: #800080; text-decoration-color: #800080; font-weight: bold\">publish</span><span style=\"font-weight: bold\">()</span> in task       \n",
              "<span style=\"color: #7fbfbf; text-decoration-color: #7fbfbf\">                </span>         <span style=\"color: #008000; text-decoration-color: #008000\">'local'</span>, but Flyte decks will not be generated because \n",
              "<span style=\"color: #7fbfbf; text-decoration-color: #7fbfbf\">                </span>         enable_deck is currently set to <span style=\"color: #ff0000; text-decoration-color: #ff0000; font-style: italic\">False</span>.                 \n",
              "</pre>\n"
            ]
          },
          "metadata": {}
        },
        {
          "output_type": "display_data",
          "data": {
            "text/plain": [
              "\u001b[2;36m15:30:41.056361\u001b[0m\u001b[2;36m \u001b[0m\u001b[33mWARNING \u001b[0m deck.py:\u001b[1;36m91\u001b[0m - Attempted to call \u001b[1;35mpublish\u001b[0m\u001b[1m(\u001b[0m\u001b[1m)\u001b[0m in task       \n",
              "\u001b[2;36m                \u001b[0m         \u001b[32m'local'\u001b[0m, but Flyte decks will not be generated because \n",
              "\u001b[2;36m                \u001b[0m         enable_deck is currently set to \u001b[3;91mFalse\u001b[0m.                 \n"
            ],
            "text/html": [
              "<pre style=\"white-space:pre;overflow-x:auto;line-height:normal;font-family:Menlo,'DejaVu Sans Mono',consolas,'Courier New',monospace\"><span style=\"color: #7fbfbf; text-decoration-color: #7fbfbf\">15:30:41.056361 </span><span style=\"color: #808000; text-decoration-color: #808000\">WARNING </span> deck.py:<span style=\"color: #008080; text-decoration-color: #008080; font-weight: bold\">91</span> - Attempted to call <span style=\"color: #800080; text-decoration-color: #800080; font-weight: bold\">publish</span><span style=\"font-weight: bold\">()</span> in task       \n",
              "<span style=\"color: #7fbfbf; text-decoration-color: #7fbfbf\">                </span>         <span style=\"color: #008000; text-decoration-color: #008000\">'local'</span>, but Flyte decks will not be generated because \n",
              "<span style=\"color: #7fbfbf; text-decoration-color: #7fbfbf\">                </span>         enable_deck is currently set to <span style=\"color: #ff0000; text-decoration-color: #ff0000; font-style: italic\">False</span>.                 \n",
              "</pre>\n"
            ]
          },
          "metadata": {}
        },
        {
          "output_type": "stream",
          "name": "stdout",
          "text": [
            "POISONING DATA\n"
          ]
        },
        {
          "output_type": "display_data",
          "data": {
            "text/plain": [
              "\u001b[2;36m15:30:41.180845\u001b[0m\u001b[2;36m \u001b[0m\u001b[33mWARNING \u001b[0m deck.py:\u001b[1;36m91\u001b[0m - Attempted to call \u001b[1;35mpublish\u001b[0m\u001b[1m(\u001b[0m\u001b[1m)\u001b[0m in task       \n",
              "\u001b[2;36m                \u001b[0m         \u001b[32m'local'\u001b[0m, but Flyte decks will not be generated because \n",
              "\u001b[2;36m                \u001b[0m         enable_deck is currently set to \u001b[3;91mFalse\u001b[0m.                 \n"
            ],
            "text/html": [
              "<pre style=\"white-space:pre;overflow-x:auto;line-height:normal;font-family:Menlo,'DejaVu Sans Mono',consolas,'Courier New',monospace\"><span style=\"color: #7fbfbf; text-decoration-color: #7fbfbf\">15:30:41.180845 </span><span style=\"color: #808000; text-decoration-color: #808000\">WARNING </span> deck.py:<span style=\"color: #008080; text-decoration-color: #008080; font-weight: bold\">91</span> - Attempted to call <span style=\"color: #800080; text-decoration-color: #800080; font-weight: bold\">publish</span><span style=\"font-weight: bold\">()</span> in task       \n",
              "<span style=\"color: #7fbfbf; text-decoration-color: #7fbfbf\">                </span>         <span style=\"color: #008000; text-decoration-color: #008000\">'local'</span>, but Flyte decks will not be generated because \n",
              "<span style=\"color: #7fbfbf; text-decoration-color: #7fbfbf\">                </span>         enable_deck is currently set to <span style=\"color: #ff0000; text-decoration-color: #ff0000; font-style: italic\">False</span>.                 \n",
              "</pre>\n"
            ]
          },
          "metadata": {}
        },
        {
          "output_type": "display_data",
          "data": {
            "text/plain": [
              "\u001b[31m╭─\u001b[0m\u001b[31m──────────────────────────────────────\u001b[0m\u001b[31m \u001b[0m\u001b[1;31mTraceback \u001b[0m\u001b[1;2;31m(most recent call last)\u001b[0m\u001b[31m \u001b[0m\u001b[31m──────────────────────────────────────\u001b[0m\u001b[31m─╮\u001b[0m\n",
              "\u001b[31m│\u001b[0m in \u001b[92m<cell line: 0>\u001b[0m:\u001b[94m1\u001b[0m                                                                                             \u001b[31m│\u001b[0m\n",
              "\u001b[31m│\u001b[0m                                                                                                                 \u001b[31m│\u001b[0m\n",
              "\u001b[31m│\u001b[0m \u001b[2;33m/usr/local/lib/python3.11/dist-packages/flytekit/core/\u001b[0m\u001b[1;33mworkflow.py\u001b[0m:\u001b[94m311\u001b[0m in \u001b[92m__call__\u001b[0m                               \u001b[31m│\u001b[0m\n",
              "\u001b[31m│\u001b[0m                                                                                                                 \u001b[31m│\u001b[0m\n",
              "\u001b[31m│\u001b[0m \u001b[31m❱ \u001b[0m311 \u001b[2m│   │   │   \u001b[0m\u001b[1;4;94mraise\u001b[0m\u001b[1;4m exc\u001b[0m                                                                                     \u001b[31m│\u001b[0m\n",
              "\u001b[31m│\u001b[0m                                                                                                                 \u001b[31m│\u001b[0m\n",
              "\u001b[31m│\u001b[0m \u001b[2;33m/usr/local/lib/python3.11/dist-packages/flytekit/core/\u001b[0m\u001b[1;33mworkflow.py\u001b[0m:\u001b[94m304\u001b[0m in \u001b[92m__call__\u001b[0m                               \u001b[31m│\u001b[0m\n",
              "\u001b[31m│\u001b[0m                                                                                                                 \u001b[31m│\u001b[0m\n",
              "\u001b[31m│\u001b[0m \u001b[31m❱ \u001b[0m304 \u001b[2m│   │   │   \u001b[0m\u001b[94mreturn\u001b[0m flyte_entity_call_handler(\u001b[96mself\u001b[0m, *args, **input_kwargs)                                 \u001b[31m│\u001b[0m\n",
              "\u001b[31m│\u001b[0m                                                                                                                 \u001b[31m│\u001b[0m\n",
              "\u001b[31m│\u001b[0m \u001b[2;33m/usr/local/lib/python3.11/dist-packages/flytekit/core/\u001b[0m\u001b[1;33mpromise.py\u001b[0m:\u001b[94m1533\u001b[0m in \u001b[92mflyte_entity_call_handler\u001b[0m              \u001b[31m│\u001b[0m\n",
              "\u001b[31m│\u001b[0m                                                                                                                 \u001b[31m│\u001b[0m\n",
              "\u001b[31m│\u001b[0m \u001b[31m❱ \u001b[0m1533 \u001b[2m│   │   │   \u001b[0mresult = \u001b[1;4mcast(LocallyExecutable, entity).local_execute(child_ctx, **kwargs)\u001b[0m                  \u001b[31m│\u001b[0m\n",
              "\u001b[31m│\u001b[0m                                                                                                                 \u001b[31m│\u001b[0m\n",
              "\u001b[31m│\u001b[0m \u001b[2;33m/usr/local/lib/python3.11/dist-packages/flytekit/core/\u001b[0m\u001b[1;33mworkflow.py\u001b[0m:\u001b[94m330\u001b[0m in \u001b[92mlocal_execute\u001b[0m                          \u001b[31m│\u001b[0m\n",
              "\u001b[31m│\u001b[0m                                                                                                                 \u001b[31m│\u001b[0m\n",
              "\u001b[31m│\u001b[0m \u001b[31m❱ \u001b[0m330 \u001b[2m│   │   \u001b[0mfunction_outputs = \u001b[1;4;96mself\u001b[0m\u001b[1;4m.execute(**kwargs_literals)\u001b[0m                                                \u001b[31m│\u001b[0m\n",
              "\u001b[31m│\u001b[0m                                                                                                                 \u001b[31m│\u001b[0m\n",
              "\u001b[31m│\u001b[0m \u001b[2;33m/usr/local/lib/python3.11/dist-packages/flytekit/core/\u001b[0m\u001b[1;33mworkflow.py\u001b[0m:\u001b[94m847\u001b[0m in \u001b[92mexecute\u001b[0m                                \u001b[31m│\u001b[0m\n",
              "\u001b[31m│\u001b[0m                                                                                                                 \u001b[31m│\u001b[0m\n",
              "\u001b[31m│\u001b[0m \u001b[31m❱ \u001b[0m847 \u001b[2m│   │   \u001b[0m\u001b[94mreturn\u001b[0m \u001b[1;4;96mself\u001b[0m\u001b[1;4m._workflow_function(**kwargs)\u001b[0m                                                          \u001b[31m│\u001b[0m\n",
              "\u001b[31m│\u001b[0m in \u001b[92mpipeline\u001b[0m:\u001b[94m10\u001b[0m                                                                                                  \u001b[31m│\u001b[0m\n",
              "\u001b[31m│\u001b[0m                                                                                                                 \u001b[31m│\u001b[0m\n",
              "\u001b[31m│\u001b[0m \u001b[2;33m/usr/local/lib/python3.11/dist-packages/flytekit/core/\u001b[0m\u001b[1;33mbase_task.py\u001b[0m:\u001b[94m361\u001b[0m in \u001b[92m__call__\u001b[0m                              \u001b[31m│\u001b[0m\n",
              "\u001b[31m│\u001b[0m                                                                                                                 \u001b[31m│\u001b[0m\n",
              "\u001b[31m│\u001b[0m \u001b[31m❱ \u001b[0m361 \u001b[2m│   │   \u001b[0m\u001b[94mreturn\u001b[0m \u001b[1;4mflyte_entity_call_handler(\u001b[0m\u001b[1;4;96mself\u001b[0m\u001b[1;4m, *args, **kwargs)\u001b[0m  \u001b[2m# type: ignore\u001b[0m                           \u001b[31m│\u001b[0m\n",
              "\u001b[31m│\u001b[0m                                                                                                                 \u001b[31m│\u001b[0m\n",
              "\u001b[31m│\u001b[0m \u001b[2;33m/usr/local/lib/python3.11/dist-packages/flytekit/core/\u001b[0m\u001b[1;33mpromise.py\u001b[0m:\u001b[94m1523\u001b[0m in \u001b[92mflyte_entity_call_handler\u001b[0m              \u001b[31m│\u001b[0m\n",
              "\u001b[31m│\u001b[0m                                                                                                                 \u001b[31m│\u001b[0m\n",
              "\u001b[31m│\u001b[0m \u001b[31m❱ \u001b[0m1523 \u001b[2m│   │   │   │   \u001b[0m\u001b[94mreturn\u001b[0m \u001b[1;4mcast(LocallyExecutable, entity).local_execute(ctx, **kwargs)\u001b[0m                      \u001b[31m│\u001b[0m\n",
              "\u001b[31m│\u001b[0m                                                                                                                 \u001b[31m│\u001b[0m\n",
              "\u001b[31m│\u001b[0m \u001b[2;33m/usr/local/lib/python3.11/dist-packages/flytekit/core/\u001b[0m\u001b[1;33mbase_task.py\u001b[0m:\u001b[94m341\u001b[0m in \u001b[92mlocal_execute\u001b[0m                         \u001b[31m│\u001b[0m\n",
              "\u001b[31m│\u001b[0m                                                                                                                 \u001b[31m│\u001b[0m\n",
              "\u001b[31m│\u001b[0m \u001b[31m❱ \u001b[0m341 \u001b[2m│   │   │   \u001b[0moutputs_literal_map = \u001b[1;4;96mself\u001b[0m\u001b[1;4m.sandbox_execute(ctx, input_literal_map)\u001b[0m                            \u001b[31m│\u001b[0m\n",
              "\u001b[31m│\u001b[0m                                                                                                                 \u001b[31m│\u001b[0m\n",
              "\u001b[31m│\u001b[0m \u001b[2;33m/usr/local/lib/python3.11/dist-packages/flytekit/core/\u001b[0m\u001b[1;33mbase_task.py\u001b[0m:\u001b[94m418\u001b[0m in \u001b[92msandbox_execute\u001b[0m                       \u001b[31m│\u001b[0m\n",
              "\u001b[31m│\u001b[0m                                                                                                                 \u001b[31m│\u001b[0m\n",
              "\u001b[31m│\u001b[0m \u001b[31m❱ \u001b[0m418 \u001b[2m│   │   \u001b[0m\u001b[94mreturn\u001b[0m \u001b[1;4;96mself\u001b[0m\u001b[1;4m.dispatch_execute(ctx, input_literal_map)\u001b[0m                                              \u001b[31m│\u001b[0m\n",
              "\u001b[31m│\u001b[0m                                                                                                                 \u001b[31m│\u001b[0m\n",
              "\u001b[31m│\u001b[0m \u001b[2;33m/usr/local/lib/python3.11/dist-packages/flytekit/core/\u001b[0m\u001b[1;33mbase_task.py\u001b[0m:\u001b[94m778\u001b[0m in \u001b[92mdispatch_execute\u001b[0m                      \u001b[31m│\u001b[0m\n",
              "\u001b[31m│\u001b[0m                                                                                                                 \u001b[31m│\u001b[0m\n",
              "\u001b[31m│\u001b[0m \u001b[31m❱ \u001b[0m778 \u001b[2m│   │   │   │   │   \u001b[0mliterals_map, native_outputs_as_map = run_sync(                                       \u001b[31m│\u001b[0m\n",
              "\u001b[31m│\u001b[0m                                                                                                                 \u001b[31m│\u001b[0m\n",
              "\u001b[31m│\u001b[0m \u001b[2;33m/usr/local/lib/python3.11/dist-packages/flytekit/utils/\u001b[0m\u001b[1;33masyn.py\u001b[0m:\u001b[94m106\u001b[0m in \u001b[92mrun_sync\u001b[0m                                  \u001b[31m│\u001b[0m\n",
              "\u001b[31m│\u001b[0m                                                                                                                 \u001b[31m│\u001b[0m\n",
              "\u001b[31m│\u001b[0m \u001b[31m❱ \u001b[0m106 \u001b[2m│   │   \u001b[0m\u001b[94mreturn\u001b[0m \u001b[1;4;96mself\u001b[0m\u001b[1;4m._runner_map[name].run(coro)\u001b[0m                                                           \u001b[31m│\u001b[0m\n",
              "\u001b[31m│\u001b[0m                                                                                                                 \u001b[31m│\u001b[0m\n",
              "\u001b[31m│\u001b[0m \u001b[2;33m/usr/local/lib/python3.11/dist-packages/flytekit/utils/\u001b[0m\u001b[1;33masyn.py\u001b[0m:\u001b[94m85\u001b[0m in \u001b[92mrun\u001b[0m                                        \u001b[31m│\u001b[0m\n",
              "\u001b[31m│\u001b[0m                                                                                                                 \u001b[31m│\u001b[0m\n",
              "\u001b[31m│\u001b[0m \u001b[31m❱ \u001b[0m 85 \u001b[2m│   │   \u001b[0mres = \u001b[1;4mfut.result(\u001b[0m\u001b[1;4;94mNone\u001b[0m\u001b[1;4m)\u001b[0m                                                                            \u001b[31m│\u001b[0m\n",
              "\u001b[31m│\u001b[0m                                                                                                                 \u001b[31m│\u001b[0m\n",
              "\u001b[31m│\u001b[0m \u001b[2;33m/usr/lib/python3.11/concurrent/futures/\u001b[0m\u001b[1;33m_base.py\u001b[0m:\u001b[94m456\u001b[0m in \u001b[92mresult\u001b[0m                                                   \u001b[31m│\u001b[0m\n",
              "\u001b[31m│\u001b[0m                                                                                                                 \u001b[31m│\u001b[0m\n",
              "\u001b[31m│\u001b[0m \u001b[31m❱ \u001b[0m456 \u001b[2m│   │   │   │   │   \u001b[0m\u001b[94mreturn\u001b[0m \u001b[96mself\u001b[0m.__get_result()                                                            \u001b[31m│\u001b[0m\n",
              "\u001b[31m│\u001b[0m                                                                                                                 \u001b[31m│\u001b[0m\n",
              "\u001b[31m│\u001b[0m \u001b[2;33m/usr/lib/python3.11/concurrent/futures/\u001b[0m\u001b[1;33m_base.py\u001b[0m:\u001b[94m401\u001b[0m in \u001b[92m__get_result\u001b[0m                                             \u001b[31m│\u001b[0m\n",
              "\u001b[31m│\u001b[0m                                                                                                                 \u001b[31m│\u001b[0m\n",
              "\u001b[31m│\u001b[0m \u001b[31m❱ \u001b[0m401 \u001b[2m│   │   │   │   \u001b[0m\u001b[94mraise\u001b[0m \u001b[96mself\u001b[0m._exception                                                                     \u001b[31m│\u001b[0m\n",
              "\u001b[31m│\u001b[0m                                                                                                                 \u001b[31m│\u001b[0m\n",
              "\u001b[31m│\u001b[0m \u001b[2;33m/usr/local/lib/python3.11/dist-packages/flytekit/core/\u001b[0m\u001b[1;33mbase_task.py\u001b[0m:\u001b[94m652\u001b[0m in \u001b[92m_output_to_literal_map\u001b[0m                \u001b[31m│\u001b[0m\n",
              "\u001b[31m│\u001b[0m                                                                                                                 \u001b[31m│\u001b[0m\n",
              "\u001b[31m│\u001b[0m \u001b[31m❱ \u001b[0m652 \u001b[2m│   │   │   │   │   \u001b[0m\u001b[1;4;94mraise\u001b[0m\u001b[1;4m e\u001b[0m                                                                               \u001b[31m│\u001b[0m\n",
              "\u001b[31m│\u001b[0m                                                                                                                 \u001b[31m│\u001b[0m\n",
              "\u001b[31m│\u001b[0m \u001b[2;33m/usr/local/lib/python3.11/dist-packages/flytekit/core/\u001b[0m\u001b[1;33mtype_engine.py\u001b[0m:\u001b[94m1412\u001b[0m in \u001b[92masync_to_literal\u001b[0m                   \u001b[31m│\u001b[0m\n",
              "\u001b[31m│\u001b[0m                                                                                                                 \u001b[31m│\u001b[0m\n",
              "\u001b[31m│\u001b[0m \u001b[31m❱ \u001b[0m1412 \u001b[2m│   │   │   \u001b[0mlv = \u001b[1;4mtransformer.to_literal(ctx, python_val, python_type, expected)\u001b[0m                          \u001b[31m│\u001b[0m\n",
              "\u001b[31m│\u001b[0m                                                                                                                 \u001b[31m│\u001b[0m\n",
              "\u001b[31m│\u001b[0m \u001b[2;33m/usr/local/lib/python3.11/dist-packages/flytekitplugins/pandera/\u001b[0m\u001b[1;33mpandas_transformer.py\u001b[0m:\u001b[94m94\u001b[0m in \u001b[92mto_literal\u001b[0m          \u001b[31m│\u001b[0m\n",
              "\u001b[31m│\u001b[0m                                                                                                                 \u001b[31m│\u001b[0m\n",
              "\u001b[31m│\u001b[0m \u001b[31m❱ \u001b[0m 94 \u001b[2m│   │   │   │   \u001b[0m\u001b[94mraise\u001b[0m exc                                                                                 \u001b[31m│\u001b[0m\n",
              "\u001b[31m│\u001b[0m                                                                                                                 \u001b[31m│\u001b[0m\n",
              "\u001b[31m│\u001b[0m \u001b[2;33m/usr/local/lib/python3.11/dist-packages/flytekitplugins/pandera/\u001b[0m\u001b[1;33mpandas_transformer.py\u001b[0m:\u001b[94m89\u001b[0m in \u001b[92mto_literal\u001b[0m          \u001b[31m│\u001b[0m\n",
              "\u001b[31m│\u001b[0m                                                                                                                 \u001b[31m│\u001b[0m\n",
              "\u001b[31m│\u001b[0m \u001b[31m❱ \u001b[0m 89 \u001b[2m│   │   │   \u001b[0mval = schema.validate(python_val, lazy=\u001b[94mTrue\u001b[0m)                                                  \u001b[31m│\u001b[0m\n",
              "\u001b[31m│\u001b[0m                                                                                                                 \u001b[31m│\u001b[0m\n",
              "\u001b[31m│\u001b[0m \u001b[2;33m/usr/local/lib/python3.11/dist-packages/pandera/api/pandas/\u001b[0m\u001b[1;33mcontainer.py\u001b[0m:\u001b[94m126\u001b[0m in \u001b[92mvalidate\u001b[0m                         \u001b[31m│\u001b[0m\n",
              "\u001b[31m│\u001b[0m                                                                                                                 \u001b[31m│\u001b[0m\n",
              "\u001b[31m│\u001b[0m \u001b[31m❱ \u001b[0m126 \u001b[2m│   │   \u001b[0m\u001b[94mreturn\u001b[0m \u001b[96mself\u001b[0m._validate(                                                                            \u001b[31m│\u001b[0m\n",
              "\u001b[31m│\u001b[0m                                                                                                                 \u001b[31m│\u001b[0m\n",
              "\u001b[31m│\u001b[0m \u001b[2;33m/usr/local/lib/python3.11/dist-packages/pandera/api/pandas/\u001b[0m\u001b[1;33mcontainer.py\u001b[0m:\u001b[94m147\u001b[0m in \u001b[92m_validate\u001b[0m                        \u001b[31m│\u001b[0m\n",
              "\u001b[31m│\u001b[0m                                                                                                                 \u001b[31m│\u001b[0m\n",
              "\u001b[31m│\u001b[0m \u001b[31m❱ \u001b[0m147 \u001b[2m│   │   \u001b[0m\u001b[94mreturn\u001b[0m \u001b[96mself\u001b[0m.get_backend(check_obj).validate(                                                      \u001b[31m│\u001b[0m\n",
              "\u001b[31m│\u001b[0m                                                                                                                 \u001b[31m│\u001b[0m\n",
              "\u001b[31m│\u001b[0m \u001b[2;33m/usr/local/lib/python3.11/dist-packages/pandera/backends/pandas/\u001b[0m\u001b[1;33mcontainer.py\u001b[0m:\u001b[94m122\u001b[0m in \u001b[92mvalidate\u001b[0m                    \u001b[31m│\u001b[0m\n",
              "\u001b[31m│\u001b[0m                                                                                                                 \u001b[31m│\u001b[0m\n",
              "\u001b[31m│\u001b[0m \u001b[31m❱ \u001b[0m122 \u001b[2m│   │   │   │   \u001b[0m\u001b[94mraise\u001b[0m SchemaErrors(                                                                       \u001b[31m│\u001b[0m\n",
              "\u001b[31m╰─────────────────────────────────────────────────────────────────────────────────────────────────────────────────╯\u001b[0m\n",
              "\u001b[1;91mSchemaErrors: \u001b[0m\u001b[1m{\u001b[0m\n",
              "    \u001b[32m\"DATA\"\u001b[0m: \u001b[1m{\u001b[0m\n",
              "        \u001b[32m\"DATAFRAME_CHECK\"\u001b[0m: \u001b[1m[\u001b[0m\n",
              "            \u001b[1m{\u001b[0m\n",
              "                \u001b[32m\"schema\"\u001b[0m: \u001b[32m\"TrainingData\"\u001b[0m,\n",
              "                \u001b[32m\"column\"\u001b[0m: \u001b[32m\"TrainingData\"\u001b[0m,\n",
              "                \u001b[32m\"check\"\u001b[0m: \u001b[32m\"validate_feature_correlations\"\u001b[0m,\n",
              "                \u001b[32m\"error\"\u001b[0m: \u001b[32m\"DataFrameSchema 'TrainingData' failed series or dataframe validator 3: \u001b[0m\u001b[32m<\u001b[0m\u001b[32mCheck\u001b[0m\u001b[32m \u001b[0m\n",
              "\u001b[32mvalidate_feature_correlations\u001b[0m\u001b[32m>\u001b[0m\u001b[32m\"\u001b[0m\n",
              "            \u001b[1m}\u001b[0m\n",
              "        \u001b[1m]\u001b[0m\n",
              "    \u001b[1m}\u001b[0m\n",
              "\u001b[1m}\u001b[0m\n"
            ],
            "text/html": [
              "<pre style=\"white-space:pre;overflow-x:auto;line-height:normal;font-family:Menlo,'DejaVu Sans Mono',consolas,'Courier New',monospace\"><span style=\"color: #800000; text-decoration-color: #800000\">╭─────────────────────────────────────── </span><span style=\"color: #800000; text-decoration-color: #800000; font-weight: bold\">Traceback </span><span style=\"color: #bf7f7f; text-decoration-color: #bf7f7f; font-weight: bold\">(most recent call last)</span><span style=\"color: #800000; text-decoration-color: #800000\"> ───────────────────────────────────────╮</span>\n",
              "<span style=\"color: #800000; text-decoration-color: #800000\">│</span> in <span style=\"color: #00ff00; text-decoration-color: #00ff00\">&lt;cell line: 0&gt;</span>:<span style=\"color: #0000ff; text-decoration-color: #0000ff\">1</span>                                                                                             <span style=\"color: #800000; text-decoration-color: #800000\">│</span>\n",
              "<span style=\"color: #800000; text-decoration-color: #800000\">│</span>                                                                                                                 <span style=\"color: #800000; text-decoration-color: #800000\">│</span>\n",
              "<span style=\"color: #800000; text-decoration-color: #800000\">│</span> <span style=\"color: #bfbf7f; text-decoration-color: #bfbf7f\">/usr/local/lib/python3.11/dist-packages/flytekit/core/</span><span style=\"color: #808000; text-decoration-color: #808000; font-weight: bold\">workflow.py</span>:<span style=\"color: #0000ff; text-decoration-color: #0000ff\">311</span> in <span style=\"color: #00ff00; text-decoration-color: #00ff00\">__call__</span>                               <span style=\"color: #800000; text-decoration-color: #800000\">│</span>\n",
              "<span style=\"color: #800000; text-decoration-color: #800000\">│</span>                                                                                                                 <span style=\"color: #800000; text-decoration-color: #800000\">│</span>\n",
              "<span style=\"color: #800000; text-decoration-color: #800000\">│</span> <span style=\"color: #800000; text-decoration-color: #800000\">❱ </span>311 <span style=\"color: #7f7f7f; text-decoration-color: #7f7f7f\">│   │   │   </span><span style=\"color: #0000ff; text-decoration-color: #0000ff; font-weight: bold; text-decoration: underline\">raise</span><span style=\"font-weight: bold; text-decoration: underline\"> exc</span>                                                                                     <span style=\"color: #800000; text-decoration-color: #800000\">│</span>\n",
              "<span style=\"color: #800000; text-decoration-color: #800000\">│</span>                                                                                                                 <span style=\"color: #800000; text-decoration-color: #800000\">│</span>\n",
              "<span style=\"color: #800000; text-decoration-color: #800000\">│</span> <span style=\"color: #bfbf7f; text-decoration-color: #bfbf7f\">/usr/local/lib/python3.11/dist-packages/flytekit/core/</span><span style=\"color: #808000; text-decoration-color: #808000; font-weight: bold\">workflow.py</span>:<span style=\"color: #0000ff; text-decoration-color: #0000ff\">304</span> in <span style=\"color: #00ff00; text-decoration-color: #00ff00\">__call__</span>                               <span style=\"color: #800000; text-decoration-color: #800000\">│</span>\n",
              "<span style=\"color: #800000; text-decoration-color: #800000\">│</span>                                                                                                                 <span style=\"color: #800000; text-decoration-color: #800000\">│</span>\n",
              "<span style=\"color: #800000; text-decoration-color: #800000\">│</span> <span style=\"color: #800000; text-decoration-color: #800000\">❱ </span>304 <span style=\"color: #7f7f7f; text-decoration-color: #7f7f7f\">│   │   │   </span><span style=\"color: #0000ff; text-decoration-color: #0000ff\">return</span> flyte_entity_call_handler(<span style=\"color: #00ffff; text-decoration-color: #00ffff\">self</span>, *args, **input_kwargs)                                 <span style=\"color: #800000; text-decoration-color: #800000\">│</span>\n",
              "<span style=\"color: #800000; text-decoration-color: #800000\">│</span>                                                                                                                 <span style=\"color: #800000; text-decoration-color: #800000\">│</span>\n",
              "<span style=\"color: #800000; text-decoration-color: #800000\">│</span> <span style=\"color: #bfbf7f; text-decoration-color: #bfbf7f\">/usr/local/lib/python3.11/dist-packages/flytekit/core/</span><span style=\"color: #808000; text-decoration-color: #808000; font-weight: bold\">promise.py</span>:<span style=\"color: #0000ff; text-decoration-color: #0000ff\">1533</span> in <span style=\"color: #00ff00; text-decoration-color: #00ff00\">flyte_entity_call_handler</span>              <span style=\"color: #800000; text-decoration-color: #800000\">│</span>\n",
              "<span style=\"color: #800000; text-decoration-color: #800000\">│</span>                                                                                                                 <span style=\"color: #800000; text-decoration-color: #800000\">│</span>\n",
              "<span style=\"color: #800000; text-decoration-color: #800000\">│</span> <span style=\"color: #800000; text-decoration-color: #800000\">❱ </span>1533 <span style=\"color: #7f7f7f; text-decoration-color: #7f7f7f\">│   │   │   </span>result = <span style=\"font-weight: bold; text-decoration: underline\">cast(LocallyExecutable, entity).local_execute(child_ctx, **kwargs)</span>                  <span style=\"color: #800000; text-decoration-color: #800000\">│</span>\n",
              "<span style=\"color: #800000; text-decoration-color: #800000\">│</span>                                                                                                                 <span style=\"color: #800000; text-decoration-color: #800000\">│</span>\n",
              "<span style=\"color: #800000; text-decoration-color: #800000\">│</span> <span style=\"color: #bfbf7f; text-decoration-color: #bfbf7f\">/usr/local/lib/python3.11/dist-packages/flytekit/core/</span><span style=\"color: #808000; text-decoration-color: #808000; font-weight: bold\">workflow.py</span>:<span style=\"color: #0000ff; text-decoration-color: #0000ff\">330</span> in <span style=\"color: #00ff00; text-decoration-color: #00ff00\">local_execute</span>                          <span style=\"color: #800000; text-decoration-color: #800000\">│</span>\n",
              "<span style=\"color: #800000; text-decoration-color: #800000\">│</span>                                                                                                                 <span style=\"color: #800000; text-decoration-color: #800000\">│</span>\n",
              "<span style=\"color: #800000; text-decoration-color: #800000\">│</span> <span style=\"color: #800000; text-decoration-color: #800000\">❱ </span>330 <span style=\"color: #7f7f7f; text-decoration-color: #7f7f7f\">│   │   </span>function_outputs = <span style=\"color: #00ffff; text-decoration-color: #00ffff; font-weight: bold; text-decoration: underline\">self</span><span style=\"font-weight: bold; text-decoration: underline\">.execute(**kwargs_literals)</span>                                                <span style=\"color: #800000; text-decoration-color: #800000\">│</span>\n",
              "<span style=\"color: #800000; text-decoration-color: #800000\">│</span>                                                                                                                 <span style=\"color: #800000; text-decoration-color: #800000\">│</span>\n",
              "<span style=\"color: #800000; text-decoration-color: #800000\">│</span> <span style=\"color: #bfbf7f; text-decoration-color: #bfbf7f\">/usr/local/lib/python3.11/dist-packages/flytekit/core/</span><span style=\"color: #808000; text-decoration-color: #808000; font-weight: bold\">workflow.py</span>:<span style=\"color: #0000ff; text-decoration-color: #0000ff\">847</span> in <span style=\"color: #00ff00; text-decoration-color: #00ff00\">execute</span>                                <span style=\"color: #800000; text-decoration-color: #800000\">│</span>\n",
              "<span style=\"color: #800000; text-decoration-color: #800000\">│</span>                                                                                                                 <span style=\"color: #800000; text-decoration-color: #800000\">│</span>\n",
              "<span style=\"color: #800000; text-decoration-color: #800000\">│</span> <span style=\"color: #800000; text-decoration-color: #800000\">❱ </span>847 <span style=\"color: #7f7f7f; text-decoration-color: #7f7f7f\">│   │   </span><span style=\"color: #0000ff; text-decoration-color: #0000ff\">return</span> <span style=\"color: #00ffff; text-decoration-color: #00ffff; font-weight: bold; text-decoration: underline\">self</span><span style=\"font-weight: bold; text-decoration: underline\">._workflow_function(**kwargs)</span>                                                          <span style=\"color: #800000; text-decoration-color: #800000\">│</span>\n",
              "<span style=\"color: #800000; text-decoration-color: #800000\">│</span> in <span style=\"color: #00ff00; text-decoration-color: #00ff00\">pipeline</span>:<span style=\"color: #0000ff; text-decoration-color: #0000ff\">10</span>                                                                                                  <span style=\"color: #800000; text-decoration-color: #800000\">│</span>\n",
              "<span style=\"color: #800000; text-decoration-color: #800000\">│</span>                                                                                                                 <span style=\"color: #800000; text-decoration-color: #800000\">│</span>\n",
              "<span style=\"color: #800000; text-decoration-color: #800000\">│</span> <span style=\"color: #bfbf7f; text-decoration-color: #bfbf7f\">/usr/local/lib/python3.11/dist-packages/flytekit/core/</span><span style=\"color: #808000; text-decoration-color: #808000; font-weight: bold\">base_task.py</span>:<span style=\"color: #0000ff; text-decoration-color: #0000ff\">361</span> in <span style=\"color: #00ff00; text-decoration-color: #00ff00\">__call__</span>                              <span style=\"color: #800000; text-decoration-color: #800000\">│</span>\n",
              "<span style=\"color: #800000; text-decoration-color: #800000\">│</span>                                                                                                                 <span style=\"color: #800000; text-decoration-color: #800000\">│</span>\n",
              "<span style=\"color: #800000; text-decoration-color: #800000\">│</span> <span style=\"color: #800000; text-decoration-color: #800000\">❱ </span>361 <span style=\"color: #7f7f7f; text-decoration-color: #7f7f7f\">│   │   </span><span style=\"color: #0000ff; text-decoration-color: #0000ff\">return</span> <span style=\"font-weight: bold; text-decoration: underline\">flyte_entity_call_handler(</span><span style=\"color: #00ffff; text-decoration-color: #00ffff; font-weight: bold; text-decoration: underline\">self</span><span style=\"font-weight: bold; text-decoration: underline\">, *args, **kwargs)</span>  <span style=\"color: #7f7f7f; text-decoration-color: #7f7f7f\"># type: ignore</span>                           <span style=\"color: #800000; text-decoration-color: #800000\">│</span>\n",
              "<span style=\"color: #800000; text-decoration-color: #800000\">│</span>                                                                                                                 <span style=\"color: #800000; text-decoration-color: #800000\">│</span>\n",
              "<span style=\"color: #800000; text-decoration-color: #800000\">│</span> <span style=\"color: #bfbf7f; text-decoration-color: #bfbf7f\">/usr/local/lib/python3.11/dist-packages/flytekit/core/</span><span style=\"color: #808000; text-decoration-color: #808000; font-weight: bold\">promise.py</span>:<span style=\"color: #0000ff; text-decoration-color: #0000ff\">1523</span> in <span style=\"color: #00ff00; text-decoration-color: #00ff00\">flyte_entity_call_handler</span>              <span style=\"color: #800000; text-decoration-color: #800000\">│</span>\n",
              "<span style=\"color: #800000; text-decoration-color: #800000\">│</span>                                                                                                                 <span style=\"color: #800000; text-decoration-color: #800000\">│</span>\n",
              "<span style=\"color: #800000; text-decoration-color: #800000\">│</span> <span style=\"color: #800000; text-decoration-color: #800000\">❱ </span>1523 <span style=\"color: #7f7f7f; text-decoration-color: #7f7f7f\">│   │   │   │   </span><span style=\"color: #0000ff; text-decoration-color: #0000ff\">return</span> <span style=\"font-weight: bold; text-decoration: underline\">cast(LocallyExecutable, entity).local_execute(ctx, **kwargs)</span>                      <span style=\"color: #800000; text-decoration-color: #800000\">│</span>\n",
              "<span style=\"color: #800000; text-decoration-color: #800000\">│</span>                                                                                                                 <span style=\"color: #800000; text-decoration-color: #800000\">│</span>\n",
              "<span style=\"color: #800000; text-decoration-color: #800000\">│</span> <span style=\"color: #bfbf7f; text-decoration-color: #bfbf7f\">/usr/local/lib/python3.11/dist-packages/flytekit/core/</span><span style=\"color: #808000; text-decoration-color: #808000; font-weight: bold\">base_task.py</span>:<span style=\"color: #0000ff; text-decoration-color: #0000ff\">341</span> in <span style=\"color: #00ff00; text-decoration-color: #00ff00\">local_execute</span>                         <span style=\"color: #800000; text-decoration-color: #800000\">│</span>\n",
              "<span style=\"color: #800000; text-decoration-color: #800000\">│</span>                                                                                                                 <span style=\"color: #800000; text-decoration-color: #800000\">│</span>\n",
              "<span style=\"color: #800000; text-decoration-color: #800000\">│</span> <span style=\"color: #800000; text-decoration-color: #800000\">❱ </span>341 <span style=\"color: #7f7f7f; text-decoration-color: #7f7f7f\">│   │   │   </span>outputs_literal_map = <span style=\"color: #00ffff; text-decoration-color: #00ffff; font-weight: bold; text-decoration: underline\">self</span><span style=\"font-weight: bold; text-decoration: underline\">.sandbox_execute(ctx, input_literal_map)</span>                            <span style=\"color: #800000; text-decoration-color: #800000\">│</span>\n",
              "<span style=\"color: #800000; text-decoration-color: #800000\">│</span>                                                                                                                 <span style=\"color: #800000; text-decoration-color: #800000\">│</span>\n",
              "<span style=\"color: #800000; text-decoration-color: #800000\">│</span> <span style=\"color: #bfbf7f; text-decoration-color: #bfbf7f\">/usr/local/lib/python3.11/dist-packages/flytekit/core/</span><span style=\"color: #808000; text-decoration-color: #808000; font-weight: bold\">base_task.py</span>:<span style=\"color: #0000ff; text-decoration-color: #0000ff\">418</span> in <span style=\"color: #00ff00; text-decoration-color: #00ff00\">sandbox_execute</span>                       <span style=\"color: #800000; text-decoration-color: #800000\">│</span>\n",
              "<span style=\"color: #800000; text-decoration-color: #800000\">│</span>                                                                                                                 <span style=\"color: #800000; text-decoration-color: #800000\">│</span>\n",
              "<span style=\"color: #800000; text-decoration-color: #800000\">│</span> <span style=\"color: #800000; text-decoration-color: #800000\">❱ </span>418 <span style=\"color: #7f7f7f; text-decoration-color: #7f7f7f\">│   │   </span><span style=\"color: #0000ff; text-decoration-color: #0000ff\">return</span> <span style=\"color: #00ffff; text-decoration-color: #00ffff; font-weight: bold; text-decoration: underline\">self</span><span style=\"font-weight: bold; text-decoration: underline\">.dispatch_execute(ctx, input_literal_map)</span>                                              <span style=\"color: #800000; text-decoration-color: #800000\">│</span>\n",
              "<span style=\"color: #800000; text-decoration-color: #800000\">│</span>                                                                                                                 <span style=\"color: #800000; text-decoration-color: #800000\">│</span>\n",
              "<span style=\"color: #800000; text-decoration-color: #800000\">│</span> <span style=\"color: #bfbf7f; text-decoration-color: #bfbf7f\">/usr/local/lib/python3.11/dist-packages/flytekit/core/</span><span style=\"color: #808000; text-decoration-color: #808000; font-weight: bold\">base_task.py</span>:<span style=\"color: #0000ff; text-decoration-color: #0000ff\">778</span> in <span style=\"color: #00ff00; text-decoration-color: #00ff00\">dispatch_execute</span>                      <span style=\"color: #800000; text-decoration-color: #800000\">│</span>\n",
              "<span style=\"color: #800000; text-decoration-color: #800000\">│</span>                                                                                                                 <span style=\"color: #800000; text-decoration-color: #800000\">│</span>\n",
              "<span style=\"color: #800000; text-decoration-color: #800000\">│</span> <span style=\"color: #800000; text-decoration-color: #800000\">❱ </span>778 <span style=\"color: #7f7f7f; text-decoration-color: #7f7f7f\">│   │   │   │   │   </span>literals_map, native_outputs_as_map = run_sync(                                       <span style=\"color: #800000; text-decoration-color: #800000\">│</span>\n",
              "<span style=\"color: #800000; text-decoration-color: #800000\">│</span>                                                                                                                 <span style=\"color: #800000; text-decoration-color: #800000\">│</span>\n",
              "<span style=\"color: #800000; text-decoration-color: #800000\">│</span> <span style=\"color: #bfbf7f; text-decoration-color: #bfbf7f\">/usr/local/lib/python3.11/dist-packages/flytekit/utils/</span><span style=\"color: #808000; text-decoration-color: #808000; font-weight: bold\">asyn.py</span>:<span style=\"color: #0000ff; text-decoration-color: #0000ff\">106</span> in <span style=\"color: #00ff00; text-decoration-color: #00ff00\">run_sync</span>                                  <span style=\"color: #800000; text-decoration-color: #800000\">│</span>\n",
              "<span style=\"color: #800000; text-decoration-color: #800000\">│</span>                                                                                                                 <span style=\"color: #800000; text-decoration-color: #800000\">│</span>\n",
              "<span style=\"color: #800000; text-decoration-color: #800000\">│</span> <span style=\"color: #800000; text-decoration-color: #800000\">❱ </span>106 <span style=\"color: #7f7f7f; text-decoration-color: #7f7f7f\">│   │   </span><span style=\"color: #0000ff; text-decoration-color: #0000ff\">return</span> <span style=\"color: #00ffff; text-decoration-color: #00ffff; font-weight: bold; text-decoration: underline\">self</span><span style=\"font-weight: bold; text-decoration: underline\">._runner_map[name].run(coro)</span>                                                           <span style=\"color: #800000; text-decoration-color: #800000\">│</span>\n",
              "<span style=\"color: #800000; text-decoration-color: #800000\">│</span>                                                                                                                 <span style=\"color: #800000; text-decoration-color: #800000\">│</span>\n",
              "<span style=\"color: #800000; text-decoration-color: #800000\">│</span> <span style=\"color: #bfbf7f; text-decoration-color: #bfbf7f\">/usr/local/lib/python3.11/dist-packages/flytekit/utils/</span><span style=\"color: #808000; text-decoration-color: #808000; font-weight: bold\">asyn.py</span>:<span style=\"color: #0000ff; text-decoration-color: #0000ff\">85</span> in <span style=\"color: #00ff00; text-decoration-color: #00ff00\">run</span>                                        <span style=\"color: #800000; text-decoration-color: #800000\">│</span>\n",
              "<span style=\"color: #800000; text-decoration-color: #800000\">│</span>                                                                                                                 <span style=\"color: #800000; text-decoration-color: #800000\">│</span>\n",
              "<span style=\"color: #800000; text-decoration-color: #800000\">│</span> <span style=\"color: #800000; text-decoration-color: #800000\">❱ </span> 85 <span style=\"color: #7f7f7f; text-decoration-color: #7f7f7f\">│   │   </span>res = <span style=\"font-weight: bold; text-decoration: underline\">fut.result(</span><span style=\"color: #0000ff; text-decoration-color: #0000ff; font-weight: bold; text-decoration: underline\">None</span><span style=\"font-weight: bold; text-decoration: underline\">)</span>                                                                            <span style=\"color: #800000; text-decoration-color: #800000\">│</span>\n",
              "<span style=\"color: #800000; text-decoration-color: #800000\">│</span>                                                                                                                 <span style=\"color: #800000; text-decoration-color: #800000\">│</span>\n",
              "<span style=\"color: #800000; text-decoration-color: #800000\">│</span> <span style=\"color: #bfbf7f; text-decoration-color: #bfbf7f\">/usr/lib/python3.11/concurrent/futures/</span><span style=\"color: #808000; text-decoration-color: #808000; font-weight: bold\">_base.py</span>:<span style=\"color: #0000ff; text-decoration-color: #0000ff\">456</span> in <span style=\"color: #00ff00; text-decoration-color: #00ff00\">result</span>                                                   <span style=\"color: #800000; text-decoration-color: #800000\">│</span>\n",
              "<span style=\"color: #800000; text-decoration-color: #800000\">│</span>                                                                                                                 <span style=\"color: #800000; text-decoration-color: #800000\">│</span>\n",
              "<span style=\"color: #800000; text-decoration-color: #800000\">│</span> <span style=\"color: #800000; text-decoration-color: #800000\">❱ </span>456 <span style=\"color: #7f7f7f; text-decoration-color: #7f7f7f\">│   │   │   │   │   </span><span style=\"color: #0000ff; text-decoration-color: #0000ff\">return</span> <span style=\"color: #00ffff; text-decoration-color: #00ffff\">self</span>.__get_result()                                                            <span style=\"color: #800000; text-decoration-color: #800000\">│</span>\n",
              "<span style=\"color: #800000; text-decoration-color: #800000\">│</span>                                                                                                                 <span style=\"color: #800000; text-decoration-color: #800000\">│</span>\n",
              "<span style=\"color: #800000; text-decoration-color: #800000\">│</span> <span style=\"color: #bfbf7f; text-decoration-color: #bfbf7f\">/usr/lib/python3.11/concurrent/futures/</span><span style=\"color: #808000; text-decoration-color: #808000; font-weight: bold\">_base.py</span>:<span style=\"color: #0000ff; text-decoration-color: #0000ff\">401</span> in <span style=\"color: #00ff00; text-decoration-color: #00ff00\">__get_result</span>                                             <span style=\"color: #800000; text-decoration-color: #800000\">│</span>\n",
              "<span style=\"color: #800000; text-decoration-color: #800000\">│</span>                                                                                                                 <span style=\"color: #800000; text-decoration-color: #800000\">│</span>\n",
              "<span style=\"color: #800000; text-decoration-color: #800000\">│</span> <span style=\"color: #800000; text-decoration-color: #800000\">❱ </span>401 <span style=\"color: #7f7f7f; text-decoration-color: #7f7f7f\">│   │   │   │   </span><span style=\"color: #0000ff; text-decoration-color: #0000ff\">raise</span> <span style=\"color: #00ffff; text-decoration-color: #00ffff\">self</span>._exception                                                                     <span style=\"color: #800000; text-decoration-color: #800000\">│</span>\n",
              "<span style=\"color: #800000; text-decoration-color: #800000\">│</span>                                                                                                                 <span style=\"color: #800000; text-decoration-color: #800000\">│</span>\n",
              "<span style=\"color: #800000; text-decoration-color: #800000\">│</span> <span style=\"color: #bfbf7f; text-decoration-color: #bfbf7f\">/usr/local/lib/python3.11/dist-packages/flytekit/core/</span><span style=\"color: #808000; text-decoration-color: #808000; font-weight: bold\">base_task.py</span>:<span style=\"color: #0000ff; text-decoration-color: #0000ff\">652</span> in <span style=\"color: #00ff00; text-decoration-color: #00ff00\">_output_to_literal_map</span>                <span style=\"color: #800000; text-decoration-color: #800000\">│</span>\n",
              "<span style=\"color: #800000; text-decoration-color: #800000\">│</span>                                                                                                                 <span style=\"color: #800000; text-decoration-color: #800000\">│</span>\n",
              "<span style=\"color: #800000; text-decoration-color: #800000\">│</span> <span style=\"color: #800000; text-decoration-color: #800000\">❱ </span>652 <span style=\"color: #7f7f7f; text-decoration-color: #7f7f7f\">│   │   │   │   │   </span><span style=\"color: #0000ff; text-decoration-color: #0000ff; font-weight: bold; text-decoration: underline\">raise</span><span style=\"font-weight: bold; text-decoration: underline\"> e</span>                                                                               <span style=\"color: #800000; text-decoration-color: #800000\">│</span>\n",
              "<span style=\"color: #800000; text-decoration-color: #800000\">│</span>                                                                                                                 <span style=\"color: #800000; text-decoration-color: #800000\">│</span>\n",
              "<span style=\"color: #800000; text-decoration-color: #800000\">│</span> <span style=\"color: #bfbf7f; text-decoration-color: #bfbf7f\">/usr/local/lib/python3.11/dist-packages/flytekit/core/</span><span style=\"color: #808000; text-decoration-color: #808000; font-weight: bold\">type_engine.py</span>:<span style=\"color: #0000ff; text-decoration-color: #0000ff\">1412</span> in <span style=\"color: #00ff00; text-decoration-color: #00ff00\">async_to_literal</span>                   <span style=\"color: #800000; text-decoration-color: #800000\">│</span>\n",
              "<span style=\"color: #800000; text-decoration-color: #800000\">│</span>                                                                                                                 <span style=\"color: #800000; text-decoration-color: #800000\">│</span>\n",
              "<span style=\"color: #800000; text-decoration-color: #800000\">│</span> <span style=\"color: #800000; text-decoration-color: #800000\">❱ </span>1412 <span style=\"color: #7f7f7f; text-decoration-color: #7f7f7f\">│   │   │   </span>lv = <span style=\"font-weight: bold; text-decoration: underline\">transformer.to_literal(ctx, python_val, python_type, expected)</span>                          <span style=\"color: #800000; text-decoration-color: #800000\">│</span>\n",
              "<span style=\"color: #800000; text-decoration-color: #800000\">│</span>                                                                                                                 <span style=\"color: #800000; text-decoration-color: #800000\">│</span>\n",
              "<span style=\"color: #800000; text-decoration-color: #800000\">│</span> <span style=\"color: #bfbf7f; text-decoration-color: #bfbf7f\">/usr/local/lib/python3.11/dist-packages/flytekitplugins/pandera/</span><span style=\"color: #808000; text-decoration-color: #808000; font-weight: bold\">pandas_transformer.py</span>:<span style=\"color: #0000ff; text-decoration-color: #0000ff\">94</span> in <span style=\"color: #00ff00; text-decoration-color: #00ff00\">to_literal</span>          <span style=\"color: #800000; text-decoration-color: #800000\">│</span>\n",
              "<span style=\"color: #800000; text-decoration-color: #800000\">│</span>                                                                                                                 <span style=\"color: #800000; text-decoration-color: #800000\">│</span>\n",
              "<span style=\"color: #800000; text-decoration-color: #800000\">│</span> <span style=\"color: #800000; text-decoration-color: #800000\">❱ </span> 94 <span style=\"color: #7f7f7f; text-decoration-color: #7f7f7f\">│   │   │   │   </span><span style=\"color: #0000ff; text-decoration-color: #0000ff\">raise</span> exc                                                                                 <span style=\"color: #800000; text-decoration-color: #800000\">│</span>\n",
              "<span style=\"color: #800000; text-decoration-color: #800000\">│</span>                                                                                                                 <span style=\"color: #800000; text-decoration-color: #800000\">│</span>\n",
              "<span style=\"color: #800000; text-decoration-color: #800000\">│</span> <span style=\"color: #bfbf7f; text-decoration-color: #bfbf7f\">/usr/local/lib/python3.11/dist-packages/flytekitplugins/pandera/</span><span style=\"color: #808000; text-decoration-color: #808000; font-weight: bold\">pandas_transformer.py</span>:<span style=\"color: #0000ff; text-decoration-color: #0000ff\">89</span> in <span style=\"color: #00ff00; text-decoration-color: #00ff00\">to_literal</span>          <span style=\"color: #800000; text-decoration-color: #800000\">│</span>\n",
              "<span style=\"color: #800000; text-decoration-color: #800000\">│</span>                                                                                                                 <span style=\"color: #800000; text-decoration-color: #800000\">│</span>\n",
              "<span style=\"color: #800000; text-decoration-color: #800000\">│</span> <span style=\"color: #800000; text-decoration-color: #800000\">❱ </span> 89 <span style=\"color: #7f7f7f; text-decoration-color: #7f7f7f\">│   │   │   </span>val = schema.validate(python_val, lazy=<span style=\"color: #0000ff; text-decoration-color: #0000ff\">True</span>)                                                  <span style=\"color: #800000; text-decoration-color: #800000\">│</span>\n",
              "<span style=\"color: #800000; text-decoration-color: #800000\">│</span>                                                                                                                 <span style=\"color: #800000; text-decoration-color: #800000\">│</span>\n",
              "<span style=\"color: #800000; text-decoration-color: #800000\">│</span> <span style=\"color: #bfbf7f; text-decoration-color: #bfbf7f\">/usr/local/lib/python3.11/dist-packages/pandera/api/pandas/</span><span style=\"color: #808000; text-decoration-color: #808000; font-weight: bold\">container.py</span>:<span style=\"color: #0000ff; text-decoration-color: #0000ff\">126</span> in <span style=\"color: #00ff00; text-decoration-color: #00ff00\">validate</span>                         <span style=\"color: #800000; text-decoration-color: #800000\">│</span>\n",
              "<span style=\"color: #800000; text-decoration-color: #800000\">│</span>                                                                                                                 <span style=\"color: #800000; text-decoration-color: #800000\">│</span>\n",
              "<span style=\"color: #800000; text-decoration-color: #800000\">│</span> <span style=\"color: #800000; text-decoration-color: #800000\">❱ </span>126 <span style=\"color: #7f7f7f; text-decoration-color: #7f7f7f\">│   │   </span><span style=\"color: #0000ff; text-decoration-color: #0000ff\">return</span> <span style=\"color: #00ffff; text-decoration-color: #00ffff\">self</span>._validate(                                                                            <span style=\"color: #800000; text-decoration-color: #800000\">│</span>\n",
              "<span style=\"color: #800000; text-decoration-color: #800000\">│</span>                                                                                                                 <span style=\"color: #800000; text-decoration-color: #800000\">│</span>\n",
              "<span style=\"color: #800000; text-decoration-color: #800000\">│</span> <span style=\"color: #bfbf7f; text-decoration-color: #bfbf7f\">/usr/local/lib/python3.11/dist-packages/pandera/api/pandas/</span><span style=\"color: #808000; text-decoration-color: #808000; font-weight: bold\">container.py</span>:<span style=\"color: #0000ff; text-decoration-color: #0000ff\">147</span> in <span style=\"color: #00ff00; text-decoration-color: #00ff00\">_validate</span>                        <span style=\"color: #800000; text-decoration-color: #800000\">│</span>\n",
              "<span style=\"color: #800000; text-decoration-color: #800000\">│</span>                                                                                                                 <span style=\"color: #800000; text-decoration-color: #800000\">│</span>\n",
              "<span style=\"color: #800000; text-decoration-color: #800000\">│</span> <span style=\"color: #800000; text-decoration-color: #800000\">❱ </span>147 <span style=\"color: #7f7f7f; text-decoration-color: #7f7f7f\">│   │   </span><span style=\"color: #0000ff; text-decoration-color: #0000ff\">return</span> <span style=\"color: #00ffff; text-decoration-color: #00ffff\">self</span>.get_backend(check_obj).validate(                                                      <span style=\"color: #800000; text-decoration-color: #800000\">│</span>\n",
              "<span style=\"color: #800000; text-decoration-color: #800000\">│</span>                                                                                                                 <span style=\"color: #800000; text-decoration-color: #800000\">│</span>\n",
              "<span style=\"color: #800000; text-decoration-color: #800000\">│</span> <span style=\"color: #bfbf7f; text-decoration-color: #bfbf7f\">/usr/local/lib/python3.11/dist-packages/pandera/backends/pandas/</span><span style=\"color: #808000; text-decoration-color: #808000; font-weight: bold\">container.py</span>:<span style=\"color: #0000ff; text-decoration-color: #0000ff\">122</span> in <span style=\"color: #00ff00; text-decoration-color: #00ff00\">validate</span>                    <span style=\"color: #800000; text-decoration-color: #800000\">│</span>\n",
              "<span style=\"color: #800000; text-decoration-color: #800000\">│</span>                                                                                                                 <span style=\"color: #800000; text-decoration-color: #800000\">│</span>\n",
              "<span style=\"color: #800000; text-decoration-color: #800000\">│</span> <span style=\"color: #800000; text-decoration-color: #800000\">❱ </span>122 <span style=\"color: #7f7f7f; text-decoration-color: #7f7f7f\">│   │   │   │   </span><span style=\"color: #0000ff; text-decoration-color: #0000ff\">raise</span> SchemaErrors(                                                                       <span style=\"color: #800000; text-decoration-color: #800000\">│</span>\n",
              "<span style=\"color: #800000; text-decoration-color: #800000\">╰─────────────────────────────────────────────────────────────────────────────────────────────────────────────────╯</span>\n",
              "<span style=\"color: #ff0000; text-decoration-color: #ff0000; font-weight: bold\">SchemaErrors: </span><span style=\"font-weight: bold\">{</span>\n",
              "    <span style=\"color: #008000; text-decoration-color: #008000\">\"DATA\"</span>: <span style=\"font-weight: bold\">{</span>\n",
              "        <span style=\"color: #008000; text-decoration-color: #008000\">\"DATAFRAME_CHECK\"</span>: <span style=\"font-weight: bold\">[</span>\n",
              "            <span style=\"font-weight: bold\">{</span>\n",
              "                <span style=\"color: #008000; text-decoration-color: #008000\">\"schema\"</span>: <span style=\"color: #008000; text-decoration-color: #008000\">\"TrainingData\"</span>,\n",
              "                <span style=\"color: #008000; text-decoration-color: #008000\">\"column\"</span>: <span style=\"color: #008000; text-decoration-color: #008000\">\"TrainingData\"</span>,\n",
              "                <span style=\"color: #008000; text-decoration-color: #008000\">\"check\"</span>: <span style=\"color: #008000; text-decoration-color: #008000\">\"validate_feature_correlations\"</span>,\n",
              "                <span style=\"color: #008000; text-decoration-color: #008000\">\"error\"</span>: <span style=\"color: #008000; text-decoration-color: #008000\">\"DataFrameSchema 'TrainingData' failed series or dataframe validator 3: &lt;Check </span>\n",
              "<span style=\"color: #008000; text-decoration-color: #008000\">validate_feature_correlations&gt;\"</span>\n",
              "            <span style=\"font-weight: bold\">}</span>\n",
              "        <span style=\"font-weight: bold\">]</span>\n",
              "    <span style=\"font-weight: bold\">}</span>\n",
              "<span style=\"font-weight: bold\">}</span>\n",
              "</pre>\n"
            ]
          },
          "metadata": {}
        }
      ]
    },
    {
      "cell_type": "markdown",
      "source": [
        "Run the workflow remotely without poisoning:"
      ],
      "metadata": {
        "id": "vbRn58HLZkl-"
      }
    },
    {
      "cell_type": "code",
      "source": [
        "serverless = UnionRemote()\n",
        "execution = serverless.execute(\n",
        "    pipeline,\n",
        "    inputs={} #no poisoning by default\n",
        ")\n",
        "execution"
      ],
      "metadata": {
        "colab": {
          "base_uri": "https://localhost:8080/",
          "height": 84
        },
        "id": "0vdx9jC-cm1F",
        "outputId": "4dfe4b64-767f-4f86-800d-e254012c23f4"
      },
      "execution_count": 49,
      "outputs": [
        {
          "output_type": "display_data",
          "data": {
            "text/plain": [
              "\u001b[2;36m15:45:28.505063\u001b[0m\u001b[2;36m \u001b[0m\u001b[33mWARNING \u001b[0m remote.py:\u001b[1;36m293\u001b[0m - Jupyter notebook and interactive task  \n",
              "\u001b[2;36m                \u001b[0m         support is still alpha.                                \n"
            ],
            "text/html": [
              "<pre style=\"white-space:pre;overflow-x:auto;line-height:normal;font-family:Menlo,'DejaVu Sans Mono',consolas,'Courier New',monospace\"><span style=\"color: #7fbfbf; text-decoration-color: #7fbfbf\">15:45:28.505063 </span><span style=\"color: #808000; text-decoration-color: #808000\">WARNING </span> remote.py:<span style=\"color: #008080; text-decoration-color: #008080; font-weight: bold\">293</span> - Jupyter notebook and interactive task  \n",
              "<span style=\"color: #7fbfbf; text-decoration-color: #7fbfbf\">                </span>         support is still alpha.                                \n",
              "</pre>\n"
            ]
          },
          "metadata": {}
        },
        {
          "output_type": "execute_result",
          "data": {
            "text/plain": [
              "Flyte Serialized object (FlyteWorkflowExecution):\n",
              "  id:\n",
              "    project: default\n",
              "    domain: development\n",
              "    name: andqgmrplr89qpt8zp4n\n",
              "  spec:\n",
              "    launch_plan:\n",
              "      resource_type: 3\n",
              "      project: default\n",
              "      domain: development\n",
              "      name: pipeline\n",
              "      version: bFB33-N04MBLjzHynKyxNw\n",
              "    metadata:\n",
              "      principal: 00uh8ip848eXOG2cq5d7\n",
              "  closure:\n",
              "    created_at:\n",
              "      seconds: 1740066330\n",
              "      nanos: 778747000\n",
              "    updated_at:\n",
              "      seconds: 1740066330\n",
              "      nanos: 778747000"
            ],
            "text/html": [
              "<b>Execution is in-progress. </b> <a href='https://serverless.union.ai/org/davidmirror-ops/projects/default/domains/development/executions/andqgmrplr89qpt8zp4n'>https://serverless.union.ai/org/davidmirror-ops/projects/default/domains/development/executions/andqgmrplr89qpt8zp4n</a>"
            ]
          },
          "metadata": {},
          "execution_count": 49
        }
      ]
    },
    {
      "cell_type": "markdown",
      "source": [
        "Retrieve the accuracy from the model's output:"
      ],
      "metadata": {
        "id": "crc2TIYq52Jc"
      }
    },
    {
      "cell_type": "code",
      "source": [
        "execution.wait(poll_interval=1)\n",
        "non_poisoned_accuracy = execution.outputs['o0']\n",
        "print(non_poisoned_accuracy)"
      ],
      "metadata": {
        "colab": {
          "base_uri": "https://localhost:8080/"
        },
        "id": "PeyEHzZ558pu",
        "outputId": "a9531727-4018-46e9-b033-adf38392c1a9"
      },
      "execution_count": 50,
      "outputs": [
        {
          "output_type": "stream",
          "name": "stdout",
          "text": [
            "0.8067226890756303\n"
          ]
        }
      ]
    },
    {
      "cell_type": "markdown",
      "source": [
        "### Trigger the attack"
      ],
      "metadata": {
        "id": "vxe2yQ_2kMLc"
      }
    },
    {
      "cell_type": "code",
      "source": [
        "poisoned_execution = serverless.execute(\n",
        "    pipeline,\n",
        "    inputs={\n",
        "        \"poison_random_state\": 102,\n",
        "        \"poison_fraction\": 0.8,\n",
        "    }\n",
        ")\n",
        "poisoned_execution"
      ],
      "metadata": {
        "colab": {
          "base_uri": "https://localhost:8080/",
          "height": 52
        },
        "id": "TlUjvwSCkQFF",
        "outputId": "482f5e97-f6c0-49ad-d9ce-552842abd45d"
      },
      "execution_count": 51,
      "outputs": [
        {
          "output_type": "execute_result",
          "data": {
            "text/plain": [
              "Flyte Serialized object (FlyteWorkflowExecution):\n",
              "  id:\n",
              "    project: default\n",
              "    domain: development\n",
              "    name: avq9vx64s97ww47xtwf8\n",
              "  spec:\n",
              "    launch_plan:\n",
              "      resource_type: 3\n",
              "      project: default\n",
              "      domain: development\n",
              "      name: pipeline\n",
              "      version: bFB33-N04MBLjzHynKyxNw\n",
              "    metadata:\n",
              "      principal: 00uh8ip848eXOG2cq5d7\n",
              "  closure:\n",
              "    created_at:\n",
              "      seconds: 1740066509\n",
              "      nanos: 401419000\n",
              "    updated_at:\n",
              "      seconds: 1740066509\n",
              "      nanos: 401419000"
            ],
            "text/html": [
              "<b>Execution is in-progress. </b> <a href='https://serverless.union.ai/org/davidmirror-ops/projects/default/domains/development/executions/avq9vx64s97ww47xtwf8'>https://serverless.union.ai/org/davidmirror-ops/projects/default/domains/development/executions/avq9vx64s97ww47xtwf8</a>"
            ]
          },
          "metadata": {},
          "execution_count": 51
        }
      ]
    },
    {
      "cell_type": "markdown",
      "source": [
        "Check the model accuracy after poisoning (it should decrease):"
      ],
      "metadata": {
        "id": "6G7Pv6ky7t40"
      }
    },
    {
      "cell_type": "code",
      "source": [
        "poisoned_execution.wait(poll_interval=1)\n",
        "poisoned_accuracy = poisoned_execution.outputs[\"o0\"]\n",
        "print(poisoned_accuracy)"
      ],
      "metadata": {
        "colab": {
          "base_uri": "https://localhost:8080/"
        },
        "id": "nD9lXGJv7uMn",
        "outputId": "fc27486f-8ecc-4c30-9e5d-bc9faf816802"
      },
      "execution_count": 52,
      "outputs": [
        {
          "output_type": "stream",
          "name": "stdout",
          "text": [
            "0.6470588235294118\n"
          ]
        }
      ]
    },
    {
      "cell_type": "markdown",
      "source": [
        "\n",
        "\n",
        "---\n",
        "\n"
      ],
      "metadata": {
        "id": "hs1OSf6Q7u91"
      }
    },
    {
      "cell_type": "markdown",
      "metadata": {
        "id": "MwYvYH6CAGa0"
      },
      "source": [
        "Congratulations 🎉! You've completed the workshop.\n",
        "\n",
        "To summarize, you've learned the basic concepts, setup, and mitigations for\n",
        "the pickled model attack and the data poisoning attack using Union together for data validation, code analysis and security.\n",
        "\n",
        "## 🤔 Learn more\n",
        "\n",
        "### Tools and Resources\n",
        "\n",
        "- [Pandera](https://github.com/unionai-oss/pandera): data validation framework for Python\n",
        "- [onnx](https://onnx.ai/): model serialization format for ML\n",
        "- [safetensors](https://huggingface.co/docs/safetensors/en/index): model serialization library for PyTorch\n",
        "\n",
        "You can learn more about Union at https://union.ai.\n",
        "\n",
        "If you have any questions, please reach out to us at support@union.ai.\n",
        "\n",
        "Thank you for attending!"
      ]
    },
    {
      "cell_type": "code",
      "source": [],
      "metadata": {
        "id": "o45hjzt88BBZ"
      },
      "execution_count": null,
      "outputs": []
    }
  ],
  "metadata": {
    "colab": {
      "provenance": [],
      "toc_visible": true,
      "include_colab_link": true
    },
    "kernelspec": {
      "display_name": "Python 3",
      "name": "python3"
    },
    "language_info": {
      "codemirror_mode": {
        "name": "ipython",
        "version": 3
      },
      "file_extension": ".py",
      "mimetype": "text/x-python",
      "name": "python",
      "nbconvert_exporter": "python",
      "pygments_lexer": "ipython3",
      "version": "3.11.10"
    }
  },
  "nbformat": 4,
  "nbformat_minor": 0
}